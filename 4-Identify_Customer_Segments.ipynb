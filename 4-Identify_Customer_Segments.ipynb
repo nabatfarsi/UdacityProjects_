{
 "cells": [
  {
   "cell_type": "markdown",
   "metadata": {},
   "source": [
    "# Project: Identify Customer Segments\n",
    "\n",
    "In this project, you will apply unsupervised learning techniques to identify segments of the population that form the core customer base for a mail-order sales company in Germany. These segments can then be used to direct marketing campaigns towards audiences that will have the highest expected rate of returns. The data that you will use has been provided by our partners at Bertelsmann Arvato Analytics, and represents a real-life data science task.\n",
    "\n",
    "This notebook will help you complete this task by providing a framework within which you will perform your analysis steps. In each step of the project, you will see some text describing the subtask that you will perform, followed by one or more code cells for you to complete your work. **Feel free to add additional code and markdown cells as you go along so that you can explore everything in precise chunks.** The code cells provided in the base template will outline only the major tasks, and will usually not be enough to cover all of the minor tasks that comprise it.\n",
    "\n",
    "It should be noted that while there will be precise guidelines on how you should handle certain tasks in the project, there will also be places where an exact specification is not provided. **There will be times in the project where you will need to make and justify your own decisions on how to treat the data.** These are places where there may not be only one way to handle the data. In real-life tasks, there may be many valid ways to approach an analysis task. One of the most important things you can do is clearly document your approach so that other scientists can understand the decisions you've made.\n",
    "\n",
    "At the end of most sections, there will be a Markdown cell labeled **Discussion**. In these cells, you will report your findings for the completed section, as well as document the decisions that you made in your approach to each subtask. **Your project will be evaluated not just on the code used to complete the tasks outlined, but also your communication about your observations and conclusions at each stage.**"
   ]
  },
  {
   "cell_type": "code",
   "execution_count": 8,
   "metadata": {},
   "outputs": [],
   "source": [
    "# import libraries here; add more as necessary\n",
    "import numpy as np\n",
    "import pandas as pd\n",
    "import matplotlib.pyplot as plt\n",
    "import seaborn as sns\n",
    "\n",
    "# magic word for producing visualizations in notebook\n",
    "%matplotlib inline"
   ]
  },
  {
   "cell_type": "markdown",
   "metadata": {},
   "source": [
    "### Step 0: Load the Data\n",
    "\n",
    "There are four files associated with this project (not including this one):\n",
    "\n",
    "- `Udacity_AZDIAS_Subset.csv`: Demographics data for the general population of Germany; 891211 persons (rows) x 85 features (columns).\n",
    "- `Udacity_CUSTOMERS_Subset.csv`: Demographics data for customers of a mail-order company; 191652 persons (rows) x 85 features (columns).\n",
    "- `Data_Dictionary.md`: Detailed information file about the features in the provided datasets.\n",
    "- `AZDIAS_Feature_Summary.csv`: Summary of feature attributes for demographics data; 85 features (rows) x 4 columns\n",
    "\n",
    "Each row of the demographics files represents a single person, but also includes information outside of individuals, including information about their household, building, and neighborhood. You will use this information to cluster the general population into groups with similar demographic properties. Then, you will see how the people in the customers dataset fit into those created clusters. The hope here is that certain clusters are over-represented in the customers data, as compared to the general population; those over-represented clusters will be assumed to be part of the core userbase. This information can then be used for further applications, such as targeting for a marketing campaign.\n",
    "\n",
    "To start off with, load in the demographics data for the general population into a pandas DataFrame, and do the same for the feature attributes summary. Note for all of the `.csv` data files in this project: they're semicolon (`;`) delimited, so you'll need an additional argument in your [`read_csv()`](https://pandas.pydata.org/pandas-docs/stable/generated/pandas.read_csv.html) call to read in the data properly. Also, considering the size of the main dataset, it may take some time for it to load completely.\n",
    "\n",
    "Once the dataset is loaded, it's recommended that you take a little bit of time just browsing the general structure of the dataset and feature summary file. You'll be getting deep into the innards of the cleaning in the first major step of the project, so gaining some general familiarity can help you get your bearings."
   ]
  },
  {
   "cell_type": "code",
   "execution_count": 2,
   "metadata": {},
   "outputs": [],
   "source": [
    "# Load in the general demographics data.\n",
    "azdias = pd.read_csv(\"Udacity_AZDIAS_Subset.csv\",delimiter=';')\n",
    "# Load in the feature summary file.\n",
    "feat_info = pd.read_csv(\"AZDIAS_Feature_Summary.csv\",delimiter=';')"
   ]
  },
  {
   "cell_type": "code",
   "execution_count": 3,
   "metadata": {},
   "outputs": [
    {
     "name": "stdout",
     "output_type": "stream",
     "text": [
      "azdias has 891221 rows and 85 columns\n",
      "feat_info has 85 rows and 4 columns\n"
     ]
    },
    {
     "data": {
      "text/html": [
       "<div>\n",
       "<style>\n",
       "    .dataframe thead tr:only-child th {\n",
       "        text-align: right;\n",
       "    }\n",
       "\n",
       "    .dataframe thead th {\n",
       "        text-align: left;\n",
       "    }\n",
       "\n",
       "    .dataframe tbody tr th {\n",
       "        vertical-align: top;\n",
       "    }\n",
       "</style>\n",
       "<table border=\"1\" class=\"dataframe\">\n",
       "  <thead>\n",
       "    <tr style=\"text-align: right;\">\n",
       "      <th></th>\n",
       "      <th>AGER_TYP</th>\n",
       "      <th>ALTERSKATEGORIE_GROB</th>\n",
       "      <th>ANREDE_KZ</th>\n",
       "      <th>CJT_GESAMTTYP</th>\n",
       "      <th>FINANZ_MINIMALIST</th>\n",
       "      <th>FINANZ_SPARER</th>\n",
       "      <th>FINANZ_VORSORGER</th>\n",
       "      <th>FINANZ_ANLEGER</th>\n",
       "      <th>FINANZ_UNAUFFAELLIGER</th>\n",
       "      <th>FINANZ_HAUSBAUER</th>\n",
       "      <th>...</th>\n",
       "      <th>PLZ8_ANTG1</th>\n",
       "      <th>PLZ8_ANTG2</th>\n",
       "      <th>PLZ8_ANTG3</th>\n",
       "      <th>PLZ8_ANTG4</th>\n",
       "      <th>PLZ8_BAUMAX</th>\n",
       "      <th>PLZ8_HHZ</th>\n",
       "      <th>PLZ8_GBZ</th>\n",
       "      <th>ARBEIT</th>\n",
       "      <th>ORTSGR_KLS9</th>\n",
       "      <th>RELAT_AB</th>\n",
       "    </tr>\n",
       "  </thead>\n",
       "  <tbody>\n",
       "    <tr>\n",
       "      <th>0</th>\n",
       "      <td>-1</td>\n",
       "      <td>2</td>\n",
       "      <td>1</td>\n",
       "      <td>2.0</td>\n",
       "      <td>3</td>\n",
       "      <td>4</td>\n",
       "      <td>3</td>\n",
       "      <td>5</td>\n",
       "      <td>5</td>\n",
       "      <td>3</td>\n",
       "      <td>...</td>\n",
       "      <td>NaN</td>\n",
       "      <td>NaN</td>\n",
       "      <td>NaN</td>\n",
       "      <td>NaN</td>\n",
       "      <td>NaN</td>\n",
       "      <td>NaN</td>\n",
       "      <td>NaN</td>\n",
       "      <td>NaN</td>\n",
       "      <td>NaN</td>\n",
       "      <td>NaN</td>\n",
       "    </tr>\n",
       "    <tr>\n",
       "      <th>1</th>\n",
       "      <td>-1</td>\n",
       "      <td>1</td>\n",
       "      <td>2</td>\n",
       "      <td>5.0</td>\n",
       "      <td>1</td>\n",
       "      <td>5</td>\n",
       "      <td>2</td>\n",
       "      <td>5</td>\n",
       "      <td>4</td>\n",
       "      <td>5</td>\n",
       "      <td>...</td>\n",
       "      <td>2.0</td>\n",
       "      <td>3.0</td>\n",
       "      <td>2.0</td>\n",
       "      <td>1.0</td>\n",
       "      <td>1.0</td>\n",
       "      <td>5.0</td>\n",
       "      <td>4.0</td>\n",
       "      <td>3.0</td>\n",
       "      <td>5.0</td>\n",
       "      <td>4.0</td>\n",
       "    </tr>\n",
       "  </tbody>\n",
       "</table>\n",
       "<p>2 rows × 85 columns</p>\n",
       "</div>"
      ],
      "text/plain": [
       "   AGER_TYP  ALTERSKATEGORIE_GROB  ANREDE_KZ  CJT_GESAMTTYP  \\\n",
       "0        -1                     2          1            2.0   \n",
       "1        -1                     1          2            5.0   \n",
       "\n",
       "   FINANZ_MINIMALIST  FINANZ_SPARER  FINANZ_VORSORGER  FINANZ_ANLEGER  \\\n",
       "0                  3              4                 3               5   \n",
       "1                  1              5                 2               5   \n",
       "\n",
       "   FINANZ_UNAUFFAELLIGER  FINANZ_HAUSBAUER    ...     PLZ8_ANTG1  PLZ8_ANTG2  \\\n",
       "0                      5                 3    ...            NaN         NaN   \n",
       "1                      4                 5    ...            2.0         3.0   \n",
       "\n",
       "   PLZ8_ANTG3  PLZ8_ANTG4  PLZ8_BAUMAX  PLZ8_HHZ  PLZ8_GBZ  ARBEIT  \\\n",
       "0         NaN         NaN          NaN       NaN       NaN     NaN   \n",
       "1         2.0         1.0          1.0       5.0       4.0     3.0   \n",
       "\n",
       "   ORTSGR_KLS9  RELAT_AB  \n",
       "0          NaN       NaN  \n",
       "1          5.0       4.0  \n",
       "\n",
       "[2 rows x 85 columns]"
      ]
     },
     "execution_count": 3,
     "metadata": {},
     "output_type": "execute_result"
    }
   ],
   "source": [
    "# Check the structure of the data after it's loaded (e.g. print the number of\n",
    "# rows and columns, print the first few rows).\n",
    "print('azdias has {} rows and {} columns'.format(*azdias.shape))\n",
    "print('feat_info has {} rows and {} columns'.format(*feat_info.shape))\n",
    "\n",
    "azdias.head(2)\n",
    "\n"
   ]
  },
  {
   "cell_type": "code",
   "execution_count": 4,
   "metadata": {},
   "outputs": [
    {
     "data": {
      "text/html": [
       "<div>\n",
       "<style>\n",
       "    .dataframe thead tr:only-child th {\n",
       "        text-align: right;\n",
       "    }\n",
       "\n",
       "    .dataframe thead th {\n",
       "        text-align: left;\n",
       "    }\n",
       "\n",
       "    .dataframe tbody tr th {\n",
       "        vertical-align: top;\n",
       "    }\n",
       "</style>\n",
       "<table border=\"1\" class=\"dataframe\">\n",
       "  <thead>\n",
       "    <tr style=\"text-align: right;\">\n",
       "      <th></th>\n",
       "      <th>attribute</th>\n",
       "      <th>information_level</th>\n",
       "      <th>type</th>\n",
       "      <th>missing_or_unknown</th>\n",
       "    </tr>\n",
       "  </thead>\n",
       "  <tbody>\n",
       "    <tr>\n",
       "      <th>0</th>\n",
       "      <td>AGER_TYP</td>\n",
       "      <td>person</td>\n",
       "      <td>categorical</td>\n",
       "      <td>[-1,0]</td>\n",
       "    </tr>\n",
       "    <tr>\n",
       "      <th>1</th>\n",
       "      <td>ALTERSKATEGORIE_GROB</td>\n",
       "      <td>person</td>\n",
       "      <td>ordinal</td>\n",
       "      <td>[-1,0,9]</td>\n",
       "    </tr>\n",
       "  </tbody>\n",
       "</table>\n",
       "</div>"
      ],
      "text/plain": [
       "              attribute information_level         type missing_or_unknown\n",
       "0              AGER_TYP            person  categorical             [-1,0]\n",
       "1  ALTERSKATEGORIE_GROB            person      ordinal           [-1,0,9]"
      ]
     },
     "execution_count": 4,
     "metadata": {},
     "output_type": "execute_result"
    }
   ],
   "source": [
    "feat_info.head(2)"
   ]
  },
  {
   "cell_type": "markdown",
   "metadata": {},
   "source": [
    "> **Tip**: Add additional cells to keep everything in reasonably-sized chunks! Keyboard shortcut `esc --> a` (press escape to enter command mode, then press the 'A' key) adds a new cell before the active cell, and `esc --> b` adds a new cell after the active cell. If you need to convert an active cell to a markdown cell, use `esc --> m` and to convert to a code cell, use `esc --> y`. \n",
    "\n",
    "## Step 1: Preprocessing\n",
    "\n",
    "### Step 1.1: Assess Missing Data\n",
    "\n",
    "The feature summary file contains a summary of properties for each demographics data column. You will use this file to help you make cleaning decisions during this stage of the project. First of all, you should assess the demographics data in terms of missing data. Pay attention to the following points as you perform your analysis, and take notes on what you observe. Make sure that you fill in the **Discussion** cell with your findings and decisions at the end of each step that has one!\n",
    "\n",
    "#### Step 1.1.1: Convert Missing Value Codes to NaNs\n",
    "The fourth column of the feature attributes summary (loaded in above as `feat_info`) documents the codes from the data dictionary that indicate missing or unknown data. While the file encodes this as a list (e.g. `[-1,0]`), this will get read in as a string object. You'll need to do a little bit of parsing to make use of it to identify and clean the data. Convert data that matches a 'missing' or 'unknown' value code into a numpy NaN value. You might want to see how much data takes on a 'missing' or 'unknown' code, and how much data is naturally missing, as a point of interest.\n",
    "\n",
    "**As one more reminder, you are encouraged to add additional cells to break up your analysis into manageable chunks.**"
   ]
  },
  {
   "cell_type": "code",
   "execution_count": 5,
   "metadata": {},
   "outputs": [
    {
     "data": {
      "text/plain": [
       "AGER_TYP                      0\n",
       "ALTERSKATEGORIE_GROB          0\n",
       "ANREDE_KZ                     0\n",
       "CJT_GESAMTTYP              4854\n",
       "FINANZ_MINIMALIST             0\n",
       "FINANZ_SPARER                 0\n",
       "FINANZ_VORSORGER              0\n",
       "FINANZ_ANLEGER                0\n",
       "FINANZ_UNAUFFAELLIGER         0\n",
       "FINANZ_HAUSBAUER              0\n",
       "FINANZTYP                     0\n",
       "GEBURTSJAHR                   0\n",
       "GFK_URLAUBERTYP            4854\n",
       "GREEN_AVANTGARDE              0\n",
       "HEALTH_TYP                    0\n",
       "LP_LEBENSPHASE_FEIN        4854\n",
       "LP_LEBENSPHASE_GROB        4854\n",
       "LP_FAMILIE_FEIN            4854\n",
       "LP_FAMILIE_GROB            4854\n",
       "LP_STATUS_FEIN             4854\n",
       "LP_STATUS_GROB             4854\n",
       "NATIONALITAET_KZ              0\n",
       "PRAEGENDE_JUGENDJAHRE         0\n",
       "RETOURTYP_BK_S             4854\n",
       "SEMIO_SOZ                     0\n",
       "SEMIO_FAM                     0\n",
       "SEMIO_REL                     0\n",
       "SEMIO_MAT                     0\n",
       "SEMIO_VERT                    0\n",
       "SEMIO_LUST                    0\n",
       "                          ...  \n",
       "OST_WEST_KZ               93148\n",
       "WOHNLAGE                  93148\n",
       "CAMEO_DEUG_2015           98979\n",
       "CAMEO_DEU_2015            98979\n",
       "CAMEO_INTL_2015           98979\n",
       "KBA05_ANTG1              133324\n",
       "KBA05_ANTG2              133324\n",
       "KBA05_ANTG3              133324\n",
       "KBA05_ANTG4              133324\n",
       "KBA05_BAUMAX             133324\n",
       "KBA05_GBZ                133324\n",
       "BALLRAUM                  93740\n",
       "EWDICHTE                  93740\n",
       "INNENSTADT                93740\n",
       "GEBAEUDETYP_RASTER        93155\n",
       "KKK                      121196\n",
       "MOBI_REGIO               133324\n",
       "ONLINE_AFFINITAET          4854\n",
       "REGIOTYP                 121196\n",
       "KBA13_ANZAHL_PKW         105800\n",
       "PLZ8_ANTG1               116515\n",
       "PLZ8_ANTG2               116515\n",
       "PLZ8_ANTG3               116515\n",
       "PLZ8_ANTG4               116515\n",
       "PLZ8_BAUMAX              116515\n",
       "PLZ8_HHZ                 116515\n",
       "PLZ8_GBZ                 116515\n",
       "ARBEIT                    97216\n",
       "ORTSGR_KLS9               97216\n",
       "RELAT_AB                  97216\n",
       "Length: 85, dtype: int64"
      ]
     },
     "execution_count": 5,
     "metadata": {},
     "output_type": "execute_result"
    }
   ],
   "source": [
    "azdias_copy=pd.DataFrame(data=azdias,copy=True)#this is a copy to get rid of its nulls\n",
    "azdias_copy.isnull().sum()# null count are obvious in each column"
   ]
  },
  {
   "cell_type": "code",
   "execution_count": 6,
   "metadata": {},
   "outputs": [],
   "source": [
    "#to replace the null tags to np.nan\n",
    "feat_info.set_index('attribute', inplace=True)"
   ]
  },
  {
   "cell_type": "code",
   "execution_count": null,
   "metadata": {},
   "outputs": [],
   "source": [
    "for col_name in azdias_copy.columns:\n",
    "    azdias_copy[col_name] = azdias_copy[col_name].map(lambda x: np.nan if str(x) in feat_info.loc[col_name].missing_or_unknown else x)\n",
    "azdias_copy.to_csv('azdias_2.csv', sep=';', index = False) #this takes long time, thats why I stored it \n"
   ]
  },
  {
   "cell_type": "code",
   "execution_count": 9,
   "metadata": {},
   "outputs": [],
   "source": [
    "azdias2 = pd.read_csv(\"azdias_2.csv\",delimiter=';')#reading the file because previous step is timely"
   ]
  },
  {
   "cell_type": "code",
   "execution_count": 8,
   "metadata": {},
   "outputs": [],
   "source": [
    "# Identify missing or unknown data values and convert them to NaNs.\n",
    "initial_nulls=pd.Series(index=azdias.columns, data=(azdias.isnull().sum() / azdias.size) * 100)# initial nulls\n"
   ]
  },
  {
   "cell_type": "markdown",
   "metadata": {},
   "source": [
    "#### Step 1.1.2: Assess Missing Data in Each Column\n",
    "\n",
    "How much missing data is present in each column? There are a few columns that are outliers in terms of the proportion of values that are missing. You will want to use matplotlib's [`hist()`](https://matplotlib.org/api/_as_gen/matplotlib.pyplot.hist.html) function to visualize the distribution of missing value counts to find these columns. Identify and document these columns. While some of these columns might have justifications for keeping or re-encoding the data, for this project you should just remove them from the dataframe. (Feel free to make remarks about these outlier columns in the discussion, however!)\n",
    "\n",
    "For the remaining features, are there any patterns in which columns have, or share, missing data?"
   ]
  },
  {
   "cell_type": "code",
   "execution_count": 9,
   "metadata": {},
   "outputs": [
    {
     "data": {
      "text/plain": [
       "AGER_TYP                  0.000000\n",
       "ALTERSKATEGORIE_GROB      0.000000\n",
       "ANREDE_KZ                 0.000000\n",
       "CJT_GESAMTTYP             0.544646\n",
       "FINANZ_MINIMALIST         0.000000\n",
       "FINANZ_SPARER             0.000000\n",
       "FINANZ_VORSORGER          0.000000\n",
       "FINANZ_ANLEGER            0.000000\n",
       "FINANZ_UNAUFFAELLIGER     0.000000\n",
       "FINANZ_HAUSBAUER          0.000000\n",
       "FINANZTYP                 0.000000\n",
       "GEBURTSJAHR               0.000000\n",
       "GFK_URLAUBERTYP           0.544646\n",
       "GREEN_AVANTGARDE          0.000000\n",
       "HEALTH_TYP                0.000000\n",
       "LP_LEBENSPHASE_FEIN       0.544646\n",
       "LP_LEBENSPHASE_GROB       0.544646\n",
       "LP_FAMILIE_FEIN           0.544646\n",
       "LP_FAMILIE_GROB           0.544646\n",
       "LP_STATUS_FEIN            0.544646\n",
       "LP_STATUS_GROB            0.544646\n",
       "NATIONALITAET_KZ          0.000000\n",
       "PRAEGENDE_JUGENDJAHRE     0.000000\n",
       "RETOURTYP_BK_S            0.544646\n",
       "SEMIO_SOZ                 0.000000\n",
       "SEMIO_FAM                 0.000000\n",
       "SEMIO_REL                 0.000000\n",
       "SEMIO_MAT                 0.000000\n",
       "SEMIO_VERT                0.000000\n",
       "SEMIO_LUST                0.000000\n",
       "                           ...    \n",
       "OST_WEST_KZ              10.451729\n",
       "WOHNLAGE                 10.451729\n",
       "CAMEO_DEUG_2015          11.106000\n",
       "CAMEO_DEU_2015           11.106000\n",
       "CAMEO_INTL_2015          11.106000\n",
       "KBA05_ANTG1              14.959701\n",
       "KBA05_ANTG2              14.959701\n",
       "KBA05_ANTG3              14.959701\n",
       "KBA05_ANTG4              14.959701\n",
       "KBA05_BAUMAX             14.959701\n",
       "KBA05_GBZ                14.959701\n",
       "BALLRAUM                 10.518154\n",
       "EWDICHTE                 10.518154\n",
       "INNENSTADT               10.518154\n",
       "GEBAEUDETYP_RASTER       10.452514\n",
       "KKK                      13.598872\n",
       "MOBI_REGIO               14.959701\n",
       "ONLINE_AFFINITAET         0.544646\n",
       "REGIOTYP                 13.598872\n",
       "KBA13_ANZAHL_PKW         11.871354\n",
       "PLZ8_ANTG1               13.073637\n",
       "PLZ8_ANTG2               13.073637\n",
       "PLZ8_ANTG3               13.073637\n",
       "PLZ8_ANTG4               13.073637\n",
       "PLZ8_BAUMAX              13.073637\n",
       "PLZ8_HHZ                 13.073637\n",
       "PLZ8_GBZ                 13.073637\n",
       "ARBEIT                   10.908181\n",
       "ORTSGR_KLS9              10.908181\n",
       "RELAT_AB                 10.908181\n",
       "Length: 85, dtype: float64"
      ]
     },
     "execution_count": 9,
     "metadata": {},
     "output_type": "execute_result"
    }
   ],
   "source": [
    "#initial count of NaN in the data\n",
    "initial_nulls=pd.Series(index=azdias.columns, data=(azdias.isnull().sum() / azdias.shape[0]) * 100)\n",
    "initial_nulls# % of the the nulls\n"
   ]
  },
  {
   "cell_type": "code",
   "execution_count": 10,
   "metadata": {},
   "outputs": [
    {
     "data": {
      "text/plain": [
       "AGER_TYP                 85.909668\n",
       "ALTERSKATEGORIE_GROB     16.355988\n",
       "ANREDE_KZ                47.790167\n",
       "CJT_GESAMTTYP             0.544646\n",
       "FINANZ_MINIMALIST        15.662445\n",
       "FINANZ_SPARER            28.075303\n",
       "FINANZ_VORSORGER         11.710788\n",
       "FINANZ_ANLEGER           23.654290\n",
       "FINANZ_UNAUFFAELLIGER    24.752222\n",
       "FINANZ_HAUSBAUER         16.057072\n",
       "FINANZTYP                22.393099\n",
       "GEBURTSJAHR              44.020282\n",
       "GFK_URLAUBERTYP           0.544646\n",
       "GREEN_AVANTGARDE          0.000000\n",
       "HEALTH_TYP               30.697661\n",
       "LP_LEBENSPHASE_FEIN       0.544646\n",
       "LP_LEBENSPHASE_GROB       0.544646\n",
       "LP_FAMILIE_FEIN           0.544646\n",
       "LP_FAMILIE_GROB           0.544646\n",
       "LP_STATUS_FEIN            0.544646\n",
       "LP_STATUS_GROB            0.544646\n",
       "NATIONALITAET_KZ         88.911729\n",
       "PRAEGENDE_JUGENDJAHRE    14.524568\n",
       "RETOURTYP_BK_S            0.544646\n",
       "SEMIO_SOZ                 6.966622\n",
       "SEMIO_FAM                 9.191435\n",
       "SEMIO_REL                12.132793\n",
       "SEMIO_MAT                10.922207\n",
       "SEMIO_VERT               13.513708\n",
       "SEMIO_LUST               12.385480\n",
       "                           ...    \n",
       "OST_WEST_KZ              10.451729\n",
       "WOHNLAGE                 10.451729\n",
       "CAMEO_DEUG_2015          15.211042\n",
       "CAMEO_DEU_2015           11.147852\n",
       "CAMEO_INTL_2015          11.147852\n",
       "KBA05_ANTG1              14.959701\n",
       "KBA05_ANTG2              14.959701\n",
       "KBA05_ANTG3              14.959701\n",
       "KBA05_ANTG4              14.959701\n",
       "KBA05_BAUMAX             14.959701\n",
       "KBA05_GBZ                14.959701\n",
       "BALLRAUM                 10.518154\n",
       "EWDICHTE                 10.518154\n",
       "INNENSTADT               10.518154\n",
       "GEBAEUDETYP_RASTER       10.452514\n",
       "KKK                      13.598872\n",
       "MOBI_REGIO               14.959701\n",
       "ONLINE_AFFINITAET         0.544646\n",
       "REGIOTYP                 13.598872\n",
       "KBA13_ANZAHL_PKW         11.871354\n",
       "PLZ8_ANTG1               13.073637\n",
       "PLZ8_ANTG2               13.073637\n",
       "PLZ8_ANTG3               13.073637\n",
       "PLZ8_ANTG4               13.073637\n",
       "PLZ8_BAUMAX              13.073637\n",
       "PLZ8_HHZ                 13.073637\n",
       "PLZ8_GBZ                 13.073637\n",
       "ARBEIT                   10.908181\n",
       "ORTSGR_KLS9              10.908181\n",
       "RELAT_AB                 10.908181\n",
       "Length: 85, dtype: float64"
      ]
     },
     "execution_count": 10,
     "metadata": {},
     "output_type": "execute_result"
    }
   ],
   "source": [
    "# Perform an assessment of how much missing data there is in each column of the\n",
    "# dataset. note that this is on azadias2\n",
    "secondary_nulls=pd.Series(index=azdias2.columns, data=(azdias2.isnull().sum() / azdias2.shape[0]) * 100)\n",
    "secondary_nulls\n",
    "\n"
   ]
  },
  {
   "cell_type": "code",
   "execution_count": 10,
   "metadata": {},
   "outputs": [
    {
     "data": {
      "text/plain": [
       "AGER_TYP                 85.909668\n",
       "ANREDE_KZ                47.790167\n",
       "FINANZ_SPARER            28.075303\n",
       "FINANZ_ANLEGER           23.654290\n",
       "FINANZ_UNAUFFAELLIGER    24.752222\n",
       "FINANZTYP                22.393099\n",
       "GEBURTSJAHR              44.020282\n",
       "HEALTH_TYP               30.697661\n",
       "NATIONALITAET_KZ         88.911729\n",
       "SHOPPER_TYP              41.062430\n",
       "VERS_TYP                 55.261153\n",
       "KK_KUNDENTYP             65.596749\n",
       "dtype: float64"
      ]
     },
     "execution_count": 10,
     "metadata": {},
     "output_type": "execute_result"
    },
    {
     "data": {
      "image/png": "[encoded data removed]",
      "text/plain": [
       "<matplotlib.figure.Figure at 0x7f8003be6438>"
      ]
     },
     "metadata": {
      "needs_background": "light"
     },
     "output_type": "display_data"
    }
   ],
   "source": [
    "# Remove the outlier columns from the dataset. (You'll perform other data\n",
    "# engineering tasks such as re-encoding and imputation later.)\n",
    "all_nulls=pd.Series(index=azdias2.columns, data=(azdias2.isnull().sum() / azdias2.shape[0]) * 100)\n",
    "all_nulls.plot.bar(figsize=(20,10))\n",
    "#finding outlier columns that have more than 20% null values, we can remove more than 10 % as well but we will \n",
    "#miss majarity of our data\n",
    "all_nulls[all_nulls>20]\n",
    "\n"
   ]
  },
  {
   "cell_type": "code",
   "execution_count": 11,
   "metadata": {},
   "outputs": [
    {
     "name": "stdout",
     "output_type": "stream",
     "text": [
      "Index(['AGER_TYP', 'ANREDE_KZ', 'FINANZ_SPARER', 'FINANZ_ANLEGER',\n",
      "       'FINANZ_UNAUFFAELLIGER', 'FINANZTYP', 'GEBURTSJAHR', 'HEALTH_TYP',\n",
      "       'NATIONALITAET_KZ', 'SHOPPER_TYP', 'VERS_TYP', 'KK_KUNDENTYP'],\n",
      "      dtype='object')\n"
     ]
    }
   ],
   "source": [
    "out_columns=all_nulls[all_nulls>20].keys()\n",
    "print(out_columns)\n",
    "azdias2.drop(out_columns, axis=1, inplace=True)\n",
    "\n"
   ]
  },
  {
   "cell_type": "code",
   "execution_count": 15,
   "metadata": {},
   "outputs": [
    {
     "data": {
      "text/plain": [
       "(891221, 73)"
      ]
     },
     "execution_count": 15,
     "metadata": {},
     "output_type": "execute_result"
    }
   ],
   "source": [
    "azdias2.shape"
   ]
  },
  {
   "cell_type": "markdown",
   "metadata": {},
   "source": [
    "#### Discussion 1.1.2: Assess Missing Data in Each Column\n",
    "\n",
    "(Double click this cell and replace this text with your own text, reporting your observations regarding the amount of missing data in each column. Are there any patterns in missing values? Which columns were removed from the dataset?)"
   ]
  },
  {
   "cell_type": "markdown",
   "metadata": {},
   "source": [
    "#### Step 1.1.3: Assess Missing Data in Each Row\n",
    "\n",
    "Now, you'll perform a similar assessment for the rows of the dataset. How much data is missing in each row? As with the columns, you should see some groups of points that have a very different numbers of missing values. Divide the data into two subsets: one for data points that are above some threshold for missing values, and a second subset for points below that threshold.\n",
    "\n",
    "In order to know what to do with the outlier rows, we should see if the distribution of data values on columns that are not missing data (or are missing very little data) are similar or different between the two groups. Select at least five of these columns and compare the distribution of values.\n",
    "- You can use seaborn's [`countplot()`](https://seaborn.pydata.org/generated/seaborn.countplot.html) function to create a bar chart of code frequencies and matplotlib's [`subplot()`](https://matplotlib.org/api/_as_gen/matplotlib.pyplot.subplot.html) function to put bar charts for the two subplots side by side.\n",
    "- To reduce repeated code, you might want to write a function that can perform this comparison, taking as one of its arguments a column to be compared.\n",
    "\n",
    "Depending on what you observe in your comparison, this will have implications on how you approach your conclusions later in the analysis. If the distributions of non-missing features look similar between the data with many missing values and the data with few or no missing values, then we could argue that simply dropping those points from the analysis won't present a major issue. On the other hand, if the data with many missing values looks very different from the data with few or no missing values, then we should make a note on those data as special. We'll revisit these data later on. **Either way, you should continue your analysis for now using just the subset of the data with few or no missing values.**"
   ]
  },
  {
   "cell_type": "code",
   "execution_count": 16,
   "metadata": {},
   "outputs": [
    {
     "data": {
      "text/plain": [
       "Text(0.5,1,'shows hitogram of the missing data')"
      ]
     },
     "execution_count": 16,
     "metadata": {},
     "output_type": "execute_result"
    },
    {
     "data": {
      "image/png": "[encoded data removed]",
      "text/plain": [
       "<matplotlib.figure.Figure at 0x7ff449bf84a8>"
      ]
     },
     "metadata": {
      "needs_background": "light"
     },
     "output_type": "display_data"
    }
   ],
   "source": [
    "# How much data is missing in each row of the dataset?\n",
    "\n",
    "(100*(azdias2.shape[1]-azdias2.count(axis=1))/azdias2.shape[1]).to_frame().hist(figsize=(20,10),bins=60)  # to find % of nulls in the rows\n",
    "plt.xticks(np.arange(60));\n",
    "plt.xlim(0,60)\n",
    "plt.ylabel('Row Counts')\n",
    "plt.xlabel('% of missing data')\n",
    "plt.title('shows hitogram of the missing data')"
   ]
  },
  {
   "cell_type": "code",
   "execution_count": 12,
   "metadata": {},
   "outputs": [
    {
     "data": {
      "text/plain": [
       "(431815, 73)"
      ]
     },
     "execution_count": 12,
     "metadata": {},
     "output_type": "execute_result"
    }
   ],
   "source": [
    "# Write code to divide the data into two subsets based on the number of missing\n",
    "# values in each row. \n",
    "#we will divde the data that more than 3 enteries is null. 3 divides the data to almosr 2 equal count\n",
    "\n",
    "fair = azdias2[azdias2.isnull().sum(axis=1) < 3].reset_index(drop=True)\n",
    "poor = azdias2[azdias2.isnull().sum(axis=1) >= 3].reset_index(drop=True)\n",
    "fair.shape\n",
    "poor.shape"
   ]
  },
  {
   "cell_type": "code",
   "execution_count": 18,
   "metadata": {},
   "outputs": [
    {
     "data": {
      "text/plain": [
       "KBA05_ANTG4           -160915\n",
       "KBA05_GBZ             -160915\n",
       "KBA05_ANTG3           -160915\n",
       "LP_LEBENSPHASE_FEIN    -32445\n",
       "SEMIO_LUST             -29963\n",
       "GREEN_AVANTGARDE       -27591\n",
       "dtype: int64"
      ]
     },
     "execution_count": 18,
     "metadata": {},
     "output_type": "execute_result"
    }
   ],
   "source": [
    "# Compare the distribution of values for at least five columns where there are\n",
    "# no or few missing values, between the two subsets.\n",
    "data_diff=poor.count(axis=0)-fair.count(axis=0)\n",
    "first_3good_last3_poor=pd.concat([data_diff.sort_values().head(3),data_diff.sort_values().tail(3)])\n",
    "first_3good_last3_poor"
   ]
  },
  {
   "cell_type": "code",
   "execution_count": 19,
   "metadata": {},
   "outputs": [
    {
     "name": "stdout",
     "output_type": "stream",
     "text": [
      "KBA05_ANTG4\n",
      "KBA05_GBZ\n",
      "KBA05_ANTG3\n",
      "LP_LEBENSPHASE_FEIN\n",
      "SEMIO_LUST\n",
      "GREEN_AVANTGARDE\n"
     ]
    },
    {
     "data": {
      "image/png": "[encoded data removed]",
      "text/plain": [
       "<matplotlib.figure.Figure at 0x7ff449cc4588>"
      ]
     },
     "metadata": {
      "needs_background": "light"
     },
     "output_type": "display_data"
    }
   ],
   "source": [
    "plt.figure(figsize=(20,20))\n",
    "num=0\n",
    "for i in range(1,12,2):\n",
    "    plt.subplot(6,2,i)\n",
    "    col_name=first_3good_last3_poor.index[num]\n",
    "    print(col_name)\n",
    "    fair[col_name].hist()\n",
    "    if i==1:\n",
    "        plt.title('fair data')\n",
    "    plt.xlabel(col_name)\n",
    "\n",
    "    plt.subplot(6,2,i+1)\n",
    "    poor[col_name].hist()\n",
    "    if i==1:\n",
    "        plt.title('poor data')\n",
    "    plt.xlabel(col_name)\n",
    "    num+=1"
   ]
  },
  {
   "cell_type": "code",
   "execution_count": 3,
   "metadata": {},
   "outputs": [],
   "source": [
    "\n",
    "#we might also think about using some sort of statistical hypothesis test here as well. You might \n",
    "#check out using a Kolmogorov–Smirnov test to test each column against the null hypothesis. \n"
   ]
  },
  {
   "cell_type": "code",
   "execution_count": 13,
   "metadata": {},
   "outputs": [
    {
     "data": {
      "text/html": [
       "<div>\n",
       "<style>\n",
       "    .dataframe thead tr:only-child th {\n",
       "        text-align: right;\n",
       "    }\n",
       "\n",
       "    .dataframe thead th {\n",
       "        text-align: left;\n",
       "    }\n",
       "\n",
       "    .dataframe tbody tr th {\n",
       "        vertical-align: top;\n",
       "    }\n",
       "</style>\n",
       "<table border=\"1\" class=\"dataframe\">\n",
       "  <thead>\n",
       "    <tr style=\"text-align: right;\">\n",
       "      <th></th>\n",
       "      <th>col</th>\n",
       "      <th>stats</th>\n",
       "      <th>pvalues</th>\n",
       "    </tr>\n",
       "  </thead>\n",
       "  <tbody>\n",
       "    <tr>\n",
       "      <th>0</th>\n",
       "      <td>ALTERSKATEGORIE_GROB</td>\n",
       "      <td>0.333333</td>\n",
       "      <td>0.976213</td>\n",
       "    </tr>\n",
       "    <tr>\n",
       "      <th>1</th>\n",
       "      <td>CJT_GESAMTTYP</td>\n",
       "      <td>0.166667</td>\n",
       "      <td>0.999957</td>\n",
       "    </tr>\n",
       "    <tr>\n",
       "      <th>2</th>\n",
       "      <td>FINANZ_MINIMALIST</td>\n",
       "      <td>0.500000</td>\n",
       "      <td>0.534416</td>\n",
       "    </tr>\n",
       "    <tr>\n",
       "      <th>3</th>\n",
       "      <td>FINANZ_VORSORGER</td>\n",
       "      <td>0.250000</td>\n",
       "      <td>0.996876</td>\n",
       "    </tr>\n",
       "    <tr>\n",
       "      <th>4</th>\n",
       "      <td>FINANZ_HAUSBAUER</td>\n",
       "      <td>0.500000</td>\n",
       "      <td>0.534416</td>\n",
       "    </tr>\n",
       "  </tbody>\n",
       "</table>\n",
       "</div>"
      ],
      "text/plain": [
       "                    col     stats   pvalues\n",
       "0  ALTERSKATEGORIE_GROB  0.333333  0.976213\n",
       "1         CJT_GESAMTTYP  0.166667  0.999957\n",
       "2     FINANZ_MINIMALIST  0.500000  0.534416\n",
       "3      FINANZ_VORSORGER  0.250000  0.996876\n",
       "4      FINANZ_HAUSBAUER  0.500000  0.534416"
      ]
     },
     "execution_count": 13,
     "metadata": {},
     "output_type": "execute_result"
    }
   ],
   "source": [
    "from scipy.stats import ks_2samp\n",
    "comp_df = pd.DataFrame(azdias2.columns, columns=['col'])\n",
    "def hypothesis_test(df1, df2, cols):\n",
    "    stats = []\n",
    "    pvalues = []\n",
    "    for col in cols:\n",
    "        counts_main = df1[col].value_counts().sort_index()\n",
    "        counts_drop = df2[col].value_counts().sort_index()\n",
    "        try:\n",
    "            ch = ks_2samp(counts_main, counts_drop)\n",
    "            stats.append(ch.statistic)\n",
    "            pvalues.append(ch.pvalue)\n",
    "        except:\n",
    "            stats.append(np.nan)\n",
    "            pvalues.append(np.nan)\n",
    "\n",
    "    return stats, pvalues\n",
    "\n",
    "stats, pvalues = hypothesis_test(poor, fair, poor.columns)\n",
    "comp_df['stats'] = stats\n",
    "comp_df['pvalues'] = pvalues\n",
    "comp_df.head()"
   ]
  },
  {
   "cell_type": "markdown",
   "metadata": {},
   "source": [
    "#### Discussion 1.1.3: Assess Missing Data in Each Row\n",
    "\n",
    "the first 3 rows(least difference between data count between same column in poor and fair data) are simmilar to the disturbytion of a column between poor and fair data set. Reason is obvious because it looks like that we randomly picked two sample sets from same population. Eaven if data counts are different in two sample sets, but they are mimicing same parent population."
   ]
  },
  {
   "cell_type": "markdown",
   "metadata": {},
   "source": [
    "### Step 1.2: Select and Re-Encode Features\n",
    "\n",
    "Checking for missing data isn't the only way in which you can prepare a dataset for analysis. Since the unsupervised learning techniques to be used will only work on data that is encoded numerically, you need to make a few encoding changes or additional assumptions to be able to make progress. In addition, while almost all of the values in the dataset are encoded using numbers, not all of them represent numeric values. Check the third column of the feature summary (`feat_info`) for a summary of types of measurement.\n",
    "- For numeric and interval data, these features can be kept without changes.\n",
    "- Most of the variables in the dataset are ordinal in nature. While ordinal values may technically be non-linear in spacing, make the simplifying assumption that the ordinal variables can be treated as being interval in nature (that is, kept without any changes).\n",
    "- Special handling may be necessary for the remaining two variable types: categorical, and 'mixed'.\n",
    "\n",
    "In the first two parts of this sub-step, you will perform an investigation of the categorical and mixed-type features and make a decision on each of them, whether you will keep, drop, or re-encode each. Then, in the last part, you will create a new data frame with only the selected and engineered columns.\n",
    "\n",
    "Data wrangling is often the trickiest part of the data analysis process, and there's a lot of it to be done here. But stick with it: once you're done with this step, you'll be ready to get to the machine learning parts of the project!"
   ]
  },
  {
   "cell_type": "code",
   "execution_count": 20,
   "metadata": {},
   "outputs": [],
   "source": [
    "feat_info2=feat_info.copy()"
   ]
  },
  {
   "cell_type": "code",
   "execution_count": 21,
   "metadata": {},
   "outputs": [
    {
     "data": {
      "text/plain": [
       "(85, 3)"
      ]
     },
     "execution_count": 21,
     "metadata": {},
     "output_type": "execute_result"
    }
   ],
   "source": [
    "feat_info2.shape"
   ]
  },
  {
   "cell_type": "code",
   "execution_count": 22,
   "metadata": {},
   "outputs": [],
   "source": [
    "feat_info2.drop(out_columns, axis=0,inplace=True)"
   ]
  },
  {
   "cell_type": "code",
   "execution_count": 23,
   "metadata": {},
   "outputs": [
    {
     "data": {
      "text/plain": [
       "type\n",
       "categorical    14\n",
       "interval        1\n",
       "mixed           7\n",
       "numeric         6\n",
       "ordinal        45\n",
       "Name: information_level, dtype: int64"
      ]
     },
     "execution_count": 23,
     "metadata": {},
     "output_type": "execute_result"
    }
   ],
   "source": [
    "# How many features are there of each data type?\n",
    "feat_info2.groupby(['type'])['information_level'].count()"
   ]
  },
  {
   "cell_type": "code",
   "execution_count": 24,
   "metadata": {},
   "outputs": [
    {
     "data": {
      "text/plain": [
       "type\n",
       "categorical    21\n",
       "interval        1\n",
       "mixed           7\n",
       "numeric         7\n",
       "ordinal        49\n",
       "Name: information_level, dtype: int64"
      ]
     },
     "execution_count": 24,
     "metadata": {},
     "output_type": "execute_result"
    }
   ],
   "source": [
    "# How many features are there of each data type? this is before removing out_columns\n",
    "feat_info.groupby(['type'])['information_level'].count()"
   ]
  },
  {
   "cell_type": "markdown",
   "metadata": {},
   "source": [
    "#### Step 1.2.1: Re-Encode Categorical Features\n",
    "\n",
    "For categorical data, you would ordinarily need to encode the levels as dummy variables. Depending on the number of categories, perform one of the following:\n",
    "- For binary (two-level) categoricals that take numeric values, you can keep them without needing to do anything.\n",
    "- There is one binary variable that takes on non-numeric values. For this one, you need to re-encode the values as numbers or create a dummy variable.\n",
    "- For multi-level categoricals (three or more values), you can choose to encode the values using multiple dummy variables (e.g. via [OneHotEncoder](http://scikit-learn.org/stable/modules/generated/sklearn.preprocessing.OneHotEncoder.html)), or (to keep things straightforward) just drop them from the analysis. As always, document your choices in the Discussion section."
   ]
  },
  {
   "cell_type": "code",
   "execution_count": 25,
   "metadata": {},
   "outputs": [
    {
     "data": {
      "text/plain": [
       "CJT_GESAMTTYP        6\n",
       "GFK_URLAUBERTYP     12\n",
       "GREEN_AVANTGARDE     2\n",
       "LP_FAMILIE_FEIN     12\n",
       "LP_FAMILIE_GROB      6\n",
       "LP_STATUS_FEIN      10\n",
       "LP_STATUS_GROB       5\n",
       "SOHO_KZ              2\n",
       "TITEL_KZ             6\n",
       "ZABEOTYP             5\n",
       "GEBAEUDETYP          7\n",
       "OST_WEST_KZ          2\n",
       "CAMEO_DEUG_2015      8\n",
       "CAMEO_DEU_2015      44\n",
       "dtype: int64"
      ]
     },
     "execution_count": 25,
     "metadata": {},
     "output_type": "execute_result"
    }
   ],
   "source": [
    "# Assess categorical variables: which are binary, which are multi-level, and\n",
    "# which one needs to be re-encoded?\n",
    "cat_columns=feat_info2[feat_info2['type']=='categorical'].index\n",
    "azdias2[cat_columns].nunique()\n"
   ]
  },
  {
   "cell_type": "code",
   "execution_count": 26,
   "metadata": {},
   "outputs": [
    {
     "data": {
      "text/plain": [
       "CJT_GESAMTTYP       False\n",
       "GFK_URLAUBERTYP     False\n",
       "GREEN_AVANTGARDE    False\n",
       "LP_FAMILIE_FEIN     False\n",
       "LP_FAMILIE_GROB     False\n",
       "LP_STATUS_FEIN      False\n",
       "LP_STATUS_GROB      False\n",
       "SOHO_KZ             False\n",
       "TITEL_KZ             True\n",
       "ZABEOTYP             True\n",
       "GEBAEUDETYP          True\n",
       "OST_WEST_KZ         False\n",
       "CAMEO_DEUG_2015      True\n",
       "CAMEO_DEU_2015       True\n",
       "dtype: bool"
      ]
     },
     "execution_count": 26,
     "metadata": {},
     "output_type": "execute_result"
    }
   ],
   "source": [
    "# hear we compare the catagories with the data that we are going to predict, we want to make sure that we are dealing with simmilar data\n",
    "customers = pd.read_csv('Udacity_CUSTOMERS_Subset.csv', sep=';')\n",
    "diff=customers[cat_columns].nunique()-azdias2[cat_columns].nunique()\n",
    "diff!=0\n",
    "#there are 5 features that are having different lables in training and data for predicting"
   ]
  },
  {
   "cell_type": "code",
   "execution_count": 27,
   "metadata": {},
   "outputs": [
    {
     "data": {
      "text/plain": [
       "Index(['TITEL_KZ', 'ZABEOTYP', 'GEBAEUDETYP', 'CAMEO_DEUG_2015',\n",
       "       'CAMEO_DEU_2015'],\n",
       "      dtype='object')"
      ]
     },
     "execution_count": 27,
     "metadata": {},
     "output_type": "execute_result"
    }
   ],
   "source": [
    "# here we see that not all the columns has the same number of fetures. This might be for a good reason, but since we are not familiare \n",
    "#with the data , safest would be to remove these columns altogether. This is important because if we do One_Hot_Encoding\n",
    "#then we wont end up with the same number of columns which means that we cant come use our model to predict Customers data\n",
    "out2_columns=diff[diff!=0].index\n",
    "out2_columns"
   ]
  },
  {
   "cell_type": "code",
   "execution_count": 28,
   "metadata": {},
   "outputs": [
    {
     "data": {
      "text/plain": [
       "(891221, 68)"
      ]
     },
     "execution_count": 28,
     "metadata": {},
     "output_type": "execute_result"
    }
   ],
   "source": [
    "azdias2.drop(out2_columns, axis=1, inplace=True)\n",
    "azdias2.shape"
   ]
  },
  {
   "cell_type": "code",
   "execution_count": 29,
   "metadata": {},
   "outputs": [],
   "source": [
    "feat_info2.drop(out2_columns, axis=0,inplace=True)"
   ]
  },
  {
   "cell_type": "code",
   "execution_count": 30,
   "metadata": {},
   "outputs": [
    {
     "data": {
      "text/plain": [
       "CJT_GESAMTTYP        6\n",
       "GFK_URLAUBERTYP     12\n",
       "GREEN_AVANTGARDE     2\n",
       "LP_FAMILIE_FEIN     12\n",
       "LP_FAMILIE_GROB      6\n",
       "LP_STATUS_FEIN      10\n",
       "LP_STATUS_GROB       5\n",
       "SOHO_KZ              2\n",
       "OST_WEST_KZ          2\n",
       "dtype: int64"
      ]
     },
     "execution_count": 30,
     "metadata": {},
     "output_type": "execute_result"
    }
   ],
   "source": [
    "# Assess categorical variables: which are binary, which are multi-level, and\n",
    "# which one needs to be re-encoded?\n",
    "cat_columns=feat_info2[feat_info2['type']=='categorical'].index\n",
    "azdias2[cat_columns].nunique()"
   ]
  },
  {
   "cell_type": "code",
   "execution_count": 31,
   "metadata": {},
   "outputs": [
    {
     "data": {
      "text/html": [
       "<div>\n",
       "<style>\n",
       "    .dataframe thead tr:only-child th {\n",
       "        text-align: right;\n",
       "    }\n",
       "\n",
       "    .dataframe thead th {\n",
       "        text-align: left;\n",
       "    }\n",
       "\n",
       "    .dataframe tbody tr th {\n",
       "        vertical-align: top;\n",
       "    }\n",
       "</style>\n",
       "<table border=\"1\" class=\"dataframe\">\n",
       "  <thead>\n",
       "    <tr style=\"text-align: right;\">\n",
       "      <th></th>\n",
       "      <th>GREEN_AVANTGARDE</th>\n",
       "      <th>SOHO_KZ</th>\n",
       "      <th>OST_WEST_KZ</th>\n",
       "    </tr>\n",
       "  </thead>\n",
       "  <tbody>\n",
       "    <tr>\n",
       "      <th>0</th>\n",
       "      <td>0</td>\n",
       "      <td>NaN</td>\n",
       "      <td>NaN</td>\n",
       "    </tr>\n",
       "    <tr>\n",
       "      <th>1</th>\n",
       "      <td>0</td>\n",
       "      <td>1.0</td>\n",
       "      <td>W</td>\n",
       "    </tr>\n",
       "    <tr>\n",
       "      <th>2</th>\n",
       "      <td>1</td>\n",
       "      <td>0.0</td>\n",
       "      <td>W</td>\n",
       "    </tr>\n",
       "    <tr>\n",
       "      <th>3</th>\n",
       "      <td>0</td>\n",
       "      <td>0.0</td>\n",
       "      <td>W</td>\n",
       "    </tr>\n",
       "    <tr>\n",
       "      <th>4</th>\n",
       "      <td>0</td>\n",
       "      <td>0.0</td>\n",
       "      <td>W</td>\n",
       "    </tr>\n",
       "    <tr>\n",
       "      <th>5</th>\n",
       "      <td>0</td>\n",
       "      <td>0.0</td>\n",
       "      <td>W</td>\n",
       "    </tr>\n",
       "    <tr>\n",
       "      <th>6</th>\n",
       "      <td>0</td>\n",
       "      <td>0.0</td>\n",
       "      <td>W</td>\n",
       "    </tr>\n",
       "    <tr>\n",
       "      <th>7</th>\n",
       "      <td>0</td>\n",
       "      <td>0.0</td>\n",
       "      <td>W</td>\n",
       "    </tr>\n",
       "    <tr>\n",
       "      <th>8</th>\n",
       "      <td>1</td>\n",
       "      <td>0.0</td>\n",
       "      <td>W</td>\n",
       "    </tr>\n",
       "    <tr>\n",
       "      <th>9</th>\n",
       "      <td>1</td>\n",
       "      <td>0.0</td>\n",
       "      <td>W</td>\n",
       "    </tr>\n",
       "    <tr>\n",
       "      <th>10</th>\n",
       "      <td>0</td>\n",
       "      <td>0.0</td>\n",
       "      <td>W</td>\n",
       "    </tr>\n",
       "    <tr>\n",
       "      <th>11</th>\n",
       "      <td>0</td>\n",
       "      <td>NaN</td>\n",
       "      <td>NaN</td>\n",
       "    </tr>\n",
       "    <tr>\n",
       "      <th>12</th>\n",
       "      <td>0</td>\n",
       "      <td>0.0</td>\n",
       "      <td>W</td>\n",
       "    </tr>\n",
       "    <tr>\n",
       "      <th>13</th>\n",
       "      <td>1</td>\n",
       "      <td>0.0</td>\n",
       "      <td>W</td>\n",
       "    </tr>\n",
       "    <tr>\n",
       "      <th>14</th>\n",
       "      <td>0</td>\n",
       "      <td>NaN</td>\n",
       "      <td>NaN</td>\n",
       "    </tr>\n",
       "    <tr>\n",
       "      <th>15</th>\n",
       "      <td>0</td>\n",
       "      <td>0.0</td>\n",
       "      <td>W</td>\n",
       "    </tr>\n",
       "    <tr>\n",
       "      <th>16</th>\n",
       "      <td>0</td>\n",
       "      <td>0.0</td>\n",
       "      <td>W</td>\n",
       "    </tr>\n",
       "    <tr>\n",
       "      <th>17</th>\n",
       "      <td>0</td>\n",
       "      <td>NaN</td>\n",
       "      <td>NaN</td>\n",
       "    </tr>\n",
       "    <tr>\n",
       "      <th>18</th>\n",
       "      <td>0</td>\n",
       "      <td>0.0</td>\n",
       "      <td>W</td>\n",
       "    </tr>\n",
       "    <tr>\n",
       "      <th>19</th>\n",
       "      <td>1</td>\n",
       "      <td>0.0</td>\n",
       "      <td>W</td>\n",
       "    </tr>\n",
       "    <tr>\n",
       "      <th>20</th>\n",
       "      <td>1</td>\n",
       "      <td>0.0</td>\n",
       "      <td>W</td>\n",
       "    </tr>\n",
       "    <tr>\n",
       "      <th>21</th>\n",
       "      <td>0</td>\n",
       "      <td>0.0</td>\n",
       "      <td>W</td>\n",
       "    </tr>\n",
       "    <tr>\n",
       "      <th>22</th>\n",
       "      <td>0</td>\n",
       "      <td>0.0</td>\n",
       "      <td>W</td>\n",
       "    </tr>\n",
       "    <tr>\n",
       "      <th>23</th>\n",
       "      <td>1</td>\n",
       "      <td>0.0</td>\n",
       "      <td>W</td>\n",
       "    </tr>\n",
       "    <tr>\n",
       "      <th>24</th>\n",
       "      <td>0</td>\n",
       "      <td>NaN</td>\n",
       "      <td>NaN</td>\n",
       "    </tr>\n",
       "    <tr>\n",
       "      <th>25</th>\n",
       "      <td>0</td>\n",
       "      <td>0.0</td>\n",
       "      <td>W</td>\n",
       "    </tr>\n",
       "    <tr>\n",
       "      <th>26</th>\n",
       "      <td>0</td>\n",
       "      <td>0.0</td>\n",
       "      <td>W</td>\n",
       "    </tr>\n",
       "    <tr>\n",
       "      <th>27</th>\n",
       "      <td>1</td>\n",
       "      <td>0.0</td>\n",
       "      <td>W</td>\n",
       "    </tr>\n",
       "    <tr>\n",
       "      <th>28</th>\n",
       "      <td>0</td>\n",
       "      <td>0.0</td>\n",
       "      <td>W</td>\n",
       "    </tr>\n",
       "    <tr>\n",
       "      <th>29</th>\n",
       "      <td>1</td>\n",
       "      <td>0.0</td>\n",
       "      <td>W</td>\n",
       "    </tr>\n",
       "    <tr>\n",
       "      <th>...</th>\n",
       "      <td>...</td>\n",
       "      <td>...</td>\n",
       "      <td>...</td>\n",
       "    </tr>\n",
       "    <tr>\n",
       "      <th>891191</th>\n",
       "      <td>0</td>\n",
       "      <td>0.0</td>\n",
       "      <td>W</td>\n",
       "    </tr>\n",
       "    <tr>\n",
       "      <th>891192</th>\n",
       "      <td>0</td>\n",
       "      <td>0.0</td>\n",
       "      <td>W</td>\n",
       "    </tr>\n",
       "    <tr>\n",
       "      <th>891193</th>\n",
       "      <td>0</td>\n",
       "      <td>0.0</td>\n",
       "      <td>W</td>\n",
       "    </tr>\n",
       "    <tr>\n",
       "      <th>891194</th>\n",
       "      <td>1</td>\n",
       "      <td>0.0</td>\n",
       "      <td>W</td>\n",
       "    </tr>\n",
       "    <tr>\n",
       "      <th>891195</th>\n",
       "      <td>0</td>\n",
       "      <td>0.0</td>\n",
       "      <td>W</td>\n",
       "    </tr>\n",
       "    <tr>\n",
       "      <th>891196</th>\n",
       "      <td>0</td>\n",
       "      <td>0.0</td>\n",
       "      <td>W</td>\n",
       "    </tr>\n",
       "    <tr>\n",
       "      <th>891197</th>\n",
       "      <td>1</td>\n",
       "      <td>0.0</td>\n",
       "      <td>W</td>\n",
       "    </tr>\n",
       "    <tr>\n",
       "      <th>891198</th>\n",
       "      <td>1</td>\n",
       "      <td>0.0</td>\n",
       "      <td>W</td>\n",
       "    </tr>\n",
       "    <tr>\n",
       "      <th>891199</th>\n",
       "      <td>0</td>\n",
       "      <td>0.0</td>\n",
       "      <td>W</td>\n",
       "    </tr>\n",
       "    <tr>\n",
       "      <th>891200</th>\n",
       "      <td>0</td>\n",
       "      <td>0.0</td>\n",
       "      <td>W</td>\n",
       "    </tr>\n",
       "    <tr>\n",
       "      <th>891201</th>\n",
       "      <td>0</td>\n",
       "      <td>0.0</td>\n",
       "      <td>W</td>\n",
       "    </tr>\n",
       "    <tr>\n",
       "      <th>891202</th>\n",
       "      <td>0</td>\n",
       "      <td>0.0</td>\n",
       "      <td>W</td>\n",
       "    </tr>\n",
       "    <tr>\n",
       "      <th>891203</th>\n",
       "      <td>0</td>\n",
       "      <td>0.0</td>\n",
       "      <td>W</td>\n",
       "    </tr>\n",
       "    <tr>\n",
       "      <th>891204</th>\n",
       "      <td>0</td>\n",
       "      <td>0.0</td>\n",
       "      <td>W</td>\n",
       "    </tr>\n",
       "    <tr>\n",
       "      <th>891205</th>\n",
       "      <td>0</td>\n",
       "      <td>0.0</td>\n",
       "      <td>W</td>\n",
       "    </tr>\n",
       "    <tr>\n",
       "      <th>891206</th>\n",
       "      <td>0</td>\n",
       "      <td>0.0</td>\n",
       "      <td>W</td>\n",
       "    </tr>\n",
       "    <tr>\n",
       "      <th>891207</th>\n",
       "      <td>1</td>\n",
       "      <td>0.0</td>\n",
       "      <td>W</td>\n",
       "    </tr>\n",
       "    <tr>\n",
       "      <th>891208</th>\n",
       "      <td>0</td>\n",
       "      <td>0.0</td>\n",
       "      <td>W</td>\n",
       "    </tr>\n",
       "    <tr>\n",
       "      <th>891209</th>\n",
       "      <td>0</td>\n",
       "      <td>0.0</td>\n",
       "      <td>W</td>\n",
       "    </tr>\n",
       "    <tr>\n",
       "      <th>891210</th>\n",
       "      <td>0</td>\n",
       "      <td>0.0</td>\n",
       "      <td>W</td>\n",
       "    </tr>\n",
       "    <tr>\n",
       "      <th>891211</th>\n",
       "      <td>0</td>\n",
       "      <td>0.0</td>\n",
       "      <td>W</td>\n",
       "    </tr>\n",
       "    <tr>\n",
       "      <th>891212</th>\n",
       "      <td>0</td>\n",
       "      <td>0.0</td>\n",
       "      <td>W</td>\n",
       "    </tr>\n",
       "    <tr>\n",
       "      <th>891213</th>\n",
       "      <td>1</td>\n",
       "      <td>0.0</td>\n",
       "      <td>W</td>\n",
       "    </tr>\n",
       "    <tr>\n",
       "      <th>891214</th>\n",
       "      <td>0</td>\n",
       "      <td>0.0</td>\n",
       "      <td>W</td>\n",
       "    </tr>\n",
       "    <tr>\n",
       "      <th>891215</th>\n",
       "      <td>0</td>\n",
       "      <td>0.0</td>\n",
       "      <td>W</td>\n",
       "    </tr>\n",
       "    <tr>\n",
       "      <th>891216</th>\n",
       "      <td>0</td>\n",
       "      <td>0.0</td>\n",
       "      <td>W</td>\n",
       "    </tr>\n",
       "    <tr>\n",
       "      <th>891217</th>\n",
       "      <td>0</td>\n",
       "      <td>0.0</td>\n",
       "      <td>W</td>\n",
       "    </tr>\n",
       "    <tr>\n",
       "      <th>891218</th>\n",
       "      <td>0</td>\n",
       "      <td>0.0</td>\n",
       "      <td>W</td>\n",
       "    </tr>\n",
       "    <tr>\n",
       "      <th>891219</th>\n",
       "      <td>0</td>\n",
       "      <td>0.0</td>\n",
       "      <td>W</td>\n",
       "    </tr>\n",
       "    <tr>\n",
       "      <th>891220</th>\n",
       "      <td>0</td>\n",
       "      <td>0.0</td>\n",
       "      <td>W</td>\n",
       "    </tr>\n",
       "  </tbody>\n",
       "</table>\n",
       "<p>891221 rows × 3 columns</p>\n",
       "</div>"
      ],
      "text/plain": [
       "        GREEN_AVANTGARDE  SOHO_KZ OST_WEST_KZ\n",
       "0                      0      NaN         NaN\n",
       "1                      0      1.0           W\n",
       "2                      1      0.0           W\n",
       "3                      0      0.0           W\n",
       "4                      0      0.0           W\n",
       "5                      0      0.0           W\n",
       "6                      0      0.0           W\n",
       "7                      0      0.0           W\n",
       "8                      1      0.0           W\n",
       "9                      1      0.0           W\n",
       "10                     0      0.0           W\n",
       "11                     0      NaN         NaN\n",
       "12                     0      0.0           W\n",
       "13                     1      0.0           W\n",
       "14                     0      NaN         NaN\n",
       "15                     0      0.0           W\n",
       "16                     0      0.0           W\n",
       "17                     0      NaN         NaN\n",
       "18                     0      0.0           W\n",
       "19                     1      0.0           W\n",
       "20                     1      0.0           W\n",
       "21                     0      0.0           W\n",
       "22                     0      0.0           W\n",
       "23                     1      0.0           W\n",
       "24                     0      NaN         NaN\n",
       "25                     0      0.0           W\n",
       "26                     0      0.0           W\n",
       "27                     1      0.0           W\n",
       "28                     0      0.0           W\n",
       "29                     1      0.0           W\n",
       "...                  ...      ...         ...\n",
       "891191                 0      0.0           W\n",
       "891192                 0      0.0           W\n",
       "891193                 0      0.0           W\n",
       "891194                 1      0.0           W\n",
       "891195                 0      0.0           W\n",
       "891196                 0      0.0           W\n",
       "891197                 1      0.0           W\n",
       "891198                 1      0.0           W\n",
       "891199                 0      0.0           W\n",
       "891200                 0      0.0           W\n",
       "891201                 0      0.0           W\n",
       "891202                 0      0.0           W\n",
       "891203                 0      0.0           W\n",
       "891204                 0      0.0           W\n",
       "891205                 0      0.0           W\n",
       "891206                 0      0.0           W\n",
       "891207                 1      0.0           W\n",
       "891208                 0      0.0           W\n",
       "891209                 0      0.0           W\n",
       "891210                 0      0.0           W\n",
       "891211                 0      0.0           W\n",
       "891212                 0      0.0           W\n",
       "891213                 1      0.0           W\n",
       "891214                 0      0.0           W\n",
       "891215                 0      0.0           W\n",
       "891216                 0      0.0           W\n",
       "891217                 0      0.0           W\n",
       "891218                 0      0.0           W\n",
       "891219                 0      0.0           W\n",
       "891220                 0      0.0           W\n",
       "\n",
       "[891221 rows x 3 columns]"
      ]
     },
     "execution_count": 31,
     "metadata": {},
     "output_type": "execute_result"
    }
   ],
   "source": [
    "# now select the columns with just two catagories\n",
    "a=pd.DataFrame(azdias2[cat_columns].nunique()==2,columns=['binary'])\n",
    "col_binary=a[a['binary']==True].index\n",
    "azdias2[col_binary]"
   ]
  },
  {
   "cell_type": "code",
   "execution_count": 32,
   "metadata": {},
   "outputs": [
    {
     "data": {
      "text/html": [
       "<div>\n",
       "<style>\n",
       "    .dataframe thead tr:only-child th {\n",
       "        text-align: right;\n",
       "    }\n",
       "\n",
       "    .dataframe thead th {\n",
       "        text-align: left;\n",
       "    }\n",
       "\n",
       "    .dataframe tbody tr th {\n",
       "        vertical-align: top;\n",
       "    }\n",
       "</style>\n",
       "<table border=\"1\" class=\"dataframe\">\n",
       "  <thead>\n",
       "    <tr style=\"text-align: right;\">\n",
       "      <th></th>\n",
       "      <th>GREEN_AVANTGARDE</th>\n",
       "      <th>SOHO_KZ</th>\n",
       "      <th>OST_WEST_KZ</th>\n",
       "    </tr>\n",
       "  </thead>\n",
       "  <tbody>\n",
       "    <tr>\n",
       "      <th>0</th>\n",
       "      <td>0</td>\n",
       "      <td>NaN</td>\n",
       "      <td>NaN</td>\n",
       "    </tr>\n",
       "    <tr>\n",
       "      <th>1</th>\n",
       "      <td>0</td>\n",
       "      <td>1.0</td>\n",
       "      <td>1.0</td>\n",
       "    </tr>\n",
       "    <tr>\n",
       "      <th>2</th>\n",
       "      <td>1</td>\n",
       "      <td>0.0</td>\n",
       "      <td>1.0</td>\n",
       "    </tr>\n",
       "    <tr>\n",
       "      <th>3</th>\n",
       "      <td>0</td>\n",
       "      <td>0.0</td>\n",
       "      <td>1.0</td>\n",
       "    </tr>\n",
       "    <tr>\n",
       "      <th>4</th>\n",
       "      <td>0</td>\n",
       "      <td>0.0</td>\n",
       "      <td>1.0</td>\n",
       "    </tr>\n",
       "    <tr>\n",
       "      <th>5</th>\n",
       "      <td>0</td>\n",
       "      <td>0.0</td>\n",
       "      <td>1.0</td>\n",
       "    </tr>\n",
       "    <tr>\n",
       "      <th>6</th>\n",
       "      <td>0</td>\n",
       "      <td>0.0</td>\n",
       "      <td>1.0</td>\n",
       "    </tr>\n",
       "    <tr>\n",
       "      <th>7</th>\n",
       "      <td>0</td>\n",
       "      <td>0.0</td>\n",
       "      <td>1.0</td>\n",
       "    </tr>\n",
       "    <tr>\n",
       "      <th>8</th>\n",
       "      <td>1</td>\n",
       "      <td>0.0</td>\n",
       "      <td>1.0</td>\n",
       "    </tr>\n",
       "    <tr>\n",
       "      <th>9</th>\n",
       "      <td>1</td>\n",
       "      <td>0.0</td>\n",
       "      <td>1.0</td>\n",
       "    </tr>\n",
       "    <tr>\n",
       "      <th>10</th>\n",
       "      <td>0</td>\n",
       "      <td>0.0</td>\n",
       "      <td>1.0</td>\n",
       "    </tr>\n",
       "    <tr>\n",
       "      <th>11</th>\n",
       "      <td>0</td>\n",
       "      <td>NaN</td>\n",
       "      <td>NaN</td>\n",
       "    </tr>\n",
       "    <tr>\n",
       "      <th>12</th>\n",
       "      <td>0</td>\n",
       "      <td>0.0</td>\n",
       "      <td>1.0</td>\n",
       "    </tr>\n",
       "    <tr>\n",
       "      <th>13</th>\n",
       "      <td>1</td>\n",
       "      <td>0.0</td>\n",
       "      <td>1.0</td>\n",
       "    </tr>\n",
       "    <tr>\n",
       "      <th>14</th>\n",
       "      <td>0</td>\n",
       "      <td>NaN</td>\n",
       "      <td>NaN</td>\n",
       "    </tr>\n",
       "    <tr>\n",
       "      <th>15</th>\n",
       "      <td>0</td>\n",
       "      <td>0.0</td>\n",
       "      <td>1.0</td>\n",
       "    </tr>\n",
       "    <tr>\n",
       "      <th>16</th>\n",
       "      <td>0</td>\n",
       "      <td>0.0</td>\n",
       "      <td>1.0</td>\n",
       "    </tr>\n",
       "    <tr>\n",
       "      <th>17</th>\n",
       "      <td>0</td>\n",
       "      <td>NaN</td>\n",
       "      <td>NaN</td>\n",
       "    </tr>\n",
       "    <tr>\n",
       "      <th>18</th>\n",
       "      <td>0</td>\n",
       "      <td>0.0</td>\n",
       "      <td>1.0</td>\n",
       "    </tr>\n",
       "    <tr>\n",
       "      <th>19</th>\n",
       "      <td>1</td>\n",
       "      <td>0.0</td>\n",
       "      <td>1.0</td>\n",
       "    </tr>\n",
       "    <tr>\n",
       "      <th>20</th>\n",
       "      <td>1</td>\n",
       "      <td>0.0</td>\n",
       "      <td>1.0</td>\n",
       "    </tr>\n",
       "    <tr>\n",
       "      <th>21</th>\n",
       "      <td>0</td>\n",
       "      <td>0.0</td>\n",
       "      <td>1.0</td>\n",
       "    </tr>\n",
       "    <tr>\n",
       "      <th>22</th>\n",
       "      <td>0</td>\n",
       "      <td>0.0</td>\n",
       "      <td>1.0</td>\n",
       "    </tr>\n",
       "    <tr>\n",
       "      <th>23</th>\n",
       "      <td>1</td>\n",
       "      <td>0.0</td>\n",
       "      <td>1.0</td>\n",
       "    </tr>\n",
       "    <tr>\n",
       "      <th>24</th>\n",
       "      <td>0</td>\n",
       "      <td>NaN</td>\n",
       "      <td>NaN</td>\n",
       "    </tr>\n",
       "    <tr>\n",
       "      <th>25</th>\n",
       "      <td>0</td>\n",
       "      <td>0.0</td>\n",
       "      <td>1.0</td>\n",
       "    </tr>\n",
       "    <tr>\n",
       "      <th>26</th>\n",
       "      <td>0</td>\n",
       "      <td>0.0</td>\n",
       "      <td>1.0</td>\n",
       "    </tr>\n",
       "    <tr>\n",
       "      <th>27</th>\n",
       "      <td>1</td>\n",
       "      <td>0.0</td>\n",
       "      <td>1.0</td>\n",
       "    </tr>\n",
       "    <tr>\n",
       "      <th>28</th>\n",
       "      <td>0</td>\n",
       "      <td>0.0</td>\n",
       "      <td>1.0</td>\n",
       "    </tr>\n",
       "    <tr>\n",
       "      <th>29</th>\n",
       "      <td>1</td>\n",
       "      <td>0.0</td>\n",
       "      <td>1.0</td>\n",
       "    </tr>\n",
       "    <tr>\n",
       "      <th>...</th>\n",
       "      <td>...</td>\n",
       "      <td>...</td>\n",
       "      <td>...</td>\n",
       "    </tr>\n",
       "    <tr>\n",
       "      <th>891191</th>\n",
       "      <td>0</td>\n",
       "      <td>0.0</td>\n",
       "      <td>1.0</td>\n",
       "    </tr>\n",
       "    <tr>\n",
       "      <th>891192</th>\n",
       "      <td>0</td>\n",
       "      <td>0.0</td>\n",
       "      <td>1.0</td>\n",
       "    </tr>\n",
       "    <tr>\n",
       "      <th>891193</th>\n",
       "      <td>0</td>\n",
       "      <td>0.0</td>\n",
       "      <td>1.0</td>\n",
       "    </tr>\n",
       "    <tr>\n",
       "      <th>891194</th>\n",
       "      <td>1</td>\n",
       "      <td>0.0</td>\n",
       "      <td>1.0</td>\n",
       "    </tr>\n",
       "    <tr>\n",
       "      <th>891195</th>\n",
       "      <td>0</td>\n",
       "      <td>0.0</td>\n",
       "      <td>1.0</td>\n",
       "    </tr>\n",
       "    <tr>\n",
       "      <th>891196</th>\n",
       "      <td>0</td>\n",
       "      <td>0.0</td>\n",
       "      <td>1.0</td>\n",
       "    </tr>\n",
       "    <tr>\n",
       "      <th>891197</th>\n",
       "      <td>1</td>\n",
       "      <td>0.0</td>\n",
       "      <td>1.0</td>\n",
       "    </tr>\n",
       "    <tr>\n",
       "      <th>891198</th>\n",
       "      <td>1</td>\n",
       "      <td>0.0</td>\n",
       "      <td>1.0</td>\n",
       "    </tr>\n",
       "    <tr>\n",
       "      <th>891199</th>\n",
       "      <td>0</td>\n",
       "      <td>0.0</td>\n",
       "      <td>1.0</td>\n",
       "    </tr>\n",
       "    <tr>\n",
       "      <th>891200</th>\n",
       "      <td>0</td>\n",
       "      <td>0.0</td>\n",
       "      <td>1.0</td>\n",
       "    </tr>\n",
       "    <tr>\n",
       "      <th>891201</th>\n",
       "      <td>0</td>\n",
       "      <td>0.0</td>\n",
       "      <td>1.0</td>\n",
       "    </tr>\n",
       "    <tr>\n",
       "      <th>891202</th>\n",
       "      <td>0</td>\n",
       "      <td>0.0</td>\n",
       "      <td>1.0</td>\n",
       "    </tr>\n",
       "    <tr>\n",
       "      <th>891203</th>\n",
       "      <td>0</td>\n",
       "      <td>0.0</td>\n",
       "      <td>1.0</td>\n",
       "    </tr>\n",
       "    <tr>\n",
       "      <th>891204</th>\n",
       "      <td>0</td>\n",
       "      <td>0.0</td>\n",
       "      <td>1.0</td>\n",
       "    </tr>\n",
       "    <tr>\n",
       "      <th>891205</th>\n",
       "      <td>0</td>\n",
       "      <td>0.0</td>\n",
       "      <td>1.0</td>\n",
       "    </tr>\n",
       "    <tr>\n",
       "      <th>891206</th>\n",
       "      <td>0</td>\n",
       "      <td>0.0</td>\n",
       "      <td>1.0</td>\n",
       "    </tr>\n",
       "    <tr>\n",
       "      <th>891207</th>\n",
       "      <td>1</td>\n",
       "      <td>0.0</td>\n",
       "      <td>1.0</td>\n",
       "    </tr>\n",
       "    <tr>\n",
       "      <th>891208</th>\n",
       "      <td>0</td>\n",
       "      <td>0.0</td>\n",
       "      <td>1.0</td>\n",
       "    </tr>\n",
       "    <tr>\n",
       "      <th>891209</th>\n",
       "      <td>0</td>\n",
       "      <td>0.0</td>\n",
       "      <td>1.0</td>\n",
       "    </tr>\n",
       "    <tr>\n",
       "      <th>891210</th>\n",
       "      <td>0</td>\n",
       "      <td>0.0</td>\n",
       "      <td>1.0</td>\n",
       "    </tr>\n",
       "    <tr>\n",
       "      <th>891211</th>\n",
       "      <td>0</td>\n",
       "      <td>0.0</td>\n",
       "      <td>1.0</td>\n",
       "    </tr>\n",
       "    <tr>\n",
       "      <th>891212</th>\n",
       "      <td>0</td>\n",
       "      <td>0.0</td>\n",
       "      <td>1.0</td>\n",
       "    </tr>\n",
       "    <tr>\n",
       "      <th>891213</th>\n",
       "      <td>1</td>\n",
       "      <td>0.0</td>\n",
       "      <td>1.0</td>\n",
       "    </tr>\n",
       "    <tr>\n",
       "      <th>891214</th>\n",
       "      <td>0</td>\n",
       "      <td>0.0</td>\n",
       "      <td>1.0</td>\n",
       "    </tr>\n",
       "    <tr>\n",
       "      <th>891215</th>\n",
       "      <td>0</td>\n",
       "      <td>0.0</td>\n",
       "      <td>1.0</td>\n",
       "    </tr>\n",
       "    <tr>\n",
       "      <th>891216</th>\n",
       "      <td>0</td>\n",
       "      <td>0.0</td>\n",
       "      <td>1.0</td>\n",
       "    </tr>\n",
       "    <tr>\n",
       "      <th>891217</th>\n",
       "      <td>0</td>\n",
       "      <td>0.0</td>\n",
       "      <td>1.0</td>\n",
       "    </tr>\n",
       "    <tr>\n",
       "      <th>891218</th>\n",
       "      <td>0</td>\n",
       "      <td>0.0</td>\n",
       "      <td>1.0</td>\n",
       "    </tr>\n",
       "    <tr>\n",
       "      <th>891219</th>\n",
       "      <td>0</td>\n",
       "      <td>0.0</td>\n",
       "      <td>1.0</td>\n",
       "    </tr>\n",
       "    <tr>\n",
       "      <th>891220</th>\n",
       "      <td>0</td>\n",
       "      <td>0.0</td>\n",
       "      <td>1.0</td>\n",
       "    </tr>\n",
       "  </tbody>\n",
       "</table>\n",
       "<p>891221 rows × 3 columns</p>\n",
       "</div>"
      ],
      "text/plain": [
       "        GREEN_AVANTGARDE  SOHO_KZ  OST_WEST_KZ\n",
       "0                      0      NaN          NaN\n",
       "1                      0      1.0          1.0\n",
       "2                      1      0.0          1.0\n",
       "3                      0      0.0          1.0\n",
       "4                      0      0.0          1.0\n",
       "5                      0      0.0          1.0\n",
       "6                      0      0.0          1.0\n",
       "7                      0      0.0          1.0\n",
       "8                      1      0.0          1.0\n",
       "9                      1      0.0          1.0\n",
       "10                     0      0.0          1.0\n",
       "11                     0      NaN          NaN\n",
       "12                     0      0.0          1.0\n",
       "13                     1      0.0          1.0\n",
       "14                     0      NaN          NaN\n",
       "15                     0      0.0          1.0\n",
       "16                     0      0.0          1.0\n",
       "17                     0      NaN          NaN\n",
       "18                     0      0.0          1.0\n",
       "19                     1      0.0          1.0\n",
       "20                     1      0.0          1.0\n",
       "21                     0      0.0          1.0\n",
       "22                     0      0.0          1.0\n",
       "23                     1      0.0          1.0\n",
       "24                     0      NaN          NaN\n",
       "25                     0      0.0          1.0\n",
       "26                     0      0.0          1.0\n",
       "27                     1      0.0          1.0\n",
       "28                     0      0.0          1.0\n",
       "29                     1      0.0          1.0\n",
       "...                  ...      ...          ...\n",
       "891191                 0      0.0          1.0\n",
       "891192                 0      0.0          1.0\n",
       "891193                 0      0.0          1.0\n",
       "891194                 1      0.0          1.0\n",
       "891195                 0      0.0          1.0\n",
       "891196                 0      0.0          1.0\n",
       "891197                 1      0.0          1.0\n",
       "891198                 1      0.0          1.0\n",
       "891199                 0      0.0          1.0\n",
       "891200                 0      0.0          1.0\n",
       "891201                 0      0.0          1.0\n",
       "891202                 0      0.0          1.0\n",
       "891203                 0      0.0          1.0\n",
       "891204                 0      0.0          1.0\n",
       "891205                 0      0.0          1.0\n",
       "891206                 0      0.0          1.0\n",
       "891207                 1      0.0          1.0\n",
       "891208                 0      0.0          1.0\n",
       "891209                 0      0.0          1.0\n",
       "891210                 0      0.0          1.0\n",
       "891211                 0      0.0          1.0\n",
       "891212                 0      0.0          1.0\n",
       "891213                 1      0.0          1.0\n",
       "891214                 0      0.0          1.0\n",
       "891215                 0      0.0          1.0\n",
       "891216                 0      0.0          1.0\n",
       "891217                 0      0.0          1.0\n",
       "891218                 0      0.0          1.0\n",
       "891219                 0      0.0          1.0\n",
       "891220                 0      0.0          1.0\n",
       "\n",
       "[891221 rows x 3 columns]"
      ]
     },
     "execution_count": 32,
     "metadata": {},
     "output_type": "execute_result"
    }
   ],
   "source": [
    "#we wouldnt need this cause we are doing OHC later too\n",
    "azdias2['OST_WEST_KZ'].replace('W',1,inplace=True)\n",
    "azdias2['OST_WEST_KZ'].replace('O',0,inplace=True)\n",
    "azdias2[col_binary]"
   ]
  },
  {
   "cell_type": "code",
   "execution_count": 33,
   "metadata": {},
   "outputs": [],
   "source": [
    "# Re-encode categorical variable(s) to be kept in the analysis.\n",
    "# we could leave binaries out but it would be Ok to take care of them here again\n",
    "azdias2_cat_engineered = pd.get_dummies(azdias2, columns=cat_columns)\n"
   ]
  },
  {
   "cell_type": "markdown",
   "metadata": {},
   "source": [
    "#### Discussion 1.2.1: Re-Encode Categorical Features\n",
    "\n",
    "I kept all the catagories here, There were no issues with them. It will increase the size of the data but might pay off due to keeping most of the information."
   ]
  },
  {
   "cell_type": "markdown",
   "metadata": {},
   "source": [
    "#### Step 1.2.2: Engineer Mixed-Type Features\n",
    "\n",
    "There are a handful of features that are marked as \"mixed\" in the feature summary that require special treatment in order to be included in the analysis. There are two in particular that deserve attention; the handling of the rest are up to your own choices:\n",
    "- \"PRAEGENDE_JUGENDJAHRE\" combines information on three dimensions: generation by decade, movement (mainstream vs. avantgarde), and nation (east vs. west). While there aren't enough levels to disentangle east from west, you should create two new variables to capture the other two dimensions: an interval-type variable for decade, and a binary variable for movement.\n",
    "- \"CAMEO_INTL_2015\" combines information on two axes: wealth and life stage. Break up the two-digit codes by their 'tens'-place and 'ones'-place digits into two new ordinal variables (which, for the purposes of this project, is equivalent to just treating them as their raw numeric values).\n",
    "- If you decide to keep or engineer new features around the other mixed-type features, make sure you note your steps in the Discussion section.\n",
    "\n",
    "Be sure to check `Data_Dictionary.md` for the details needed to finish these tasks."
   ]
  },
  {
   "cell_type": "code",
   "execution_count": 34,
   "metadata": {},
   "outputs": [
    {
     "data": {
      "text/plain": [
       "LP_LEBENSPHASE_FEIN      41\n",
       "LP_LEBENSPHASE_GROB      13\n",
       "PRAEGENDE_JUGENDJAHRE    14\n",
       "WOHNLAGE                  8\n",
       "CAMEO_INTL_2015          21\n",
       "KBA05_BAUMAX              6\n",
       "PLZ8_BAUMAX               5\n",
       "dtype: int64"
      ]
     },
     "execution_count": 34,
     "metadata": {},
     "output_type": "execute_result"
    }
   ],
   "source": [
    "# Investigate \"PRAEGENDE_JUGENDJAHRE\" and engineer two new variables.\n",
    "mixed_columns = feat_info2[feat_info2['type'] == 'mixed'].index\n",
    "azdias2[mixed_columns].nunique()"
   ]
  },
  {
   "cell_type": "code",
   "execution_count": 35,
   "metadata": {},
   "outputs": [],
   "source": [
    "dmap_mainstream_avantgarde = {\n",
    "    1: 0, 3: 0, 5: 0, 8: 0, 10: 0, 12: 0, 14: 0,\n",
    "    2: 1, 4: 1, 6: 1, 7: 1, 9: 1, 11: 1, 13: 1, 15: 1}\n",
    "dmap_e_w_ew = {\n",
    "    7: 0, 12: 0, 13: 0,\n",
    "    6: 1, 10: 1, 11: 1,\n",
    "    1: 2, 2: 2, 3: 2, 4: 2, 5: 2, 8: 2, 9: 2, 14: 2, 15: 2\n",
    "}\n",
    "dmap_gen = {\n",
    "    1: 40, 2: 40,\n",
    "    3: 50, 4: 50,\n",
    "    5: 60, 6: 60, 7: 60,\n",
    "    8: 70, 9: 70,\n",
    "    10: 80, 11: 80, 12: 80, 13: 80,\n",
    "    14: 90, 15: 90\n",
    "}\n",
    "azdias2_cat_engineered['mainstream_avantgarde'] = azdias2_cat_engineered[\n",
    "    'PRAEGENDE_JUGENDJAHRE'].map(dmap_mainstream_avantgarde)\n",
    "azdias2_cat_engineered['e_w_ew'] = azdias2_cat_engineered['PRAEGENDE_JUGENDJAHRE'].map(dmap_e_w_ew)\n",
    "azdias2_cat_engineered['generation'] = azdias2_cat_engineered['PRAEGENDE_JUGENDJAHRE'].map(dmap_gen)\n",
    "azdias2_cat_mix_engineered = azdias2_cat_engineered.drop(['PRAEGENDE_JUGENDJAHRE'], axis=1)\n",
    "\n"
   ]
  },
  {
   "cell_type": "code",
   "execution_count": 36,
   "metadata": {},
   "outputs": [],
   "source": [
    "# Investigate \"CAMEO_INTL_2015\" and engineer two new variables.\n",
    "dmap_houshold_level = {\n",
    "    11: 1, 12: 1, 13: 1, 14: 1, 15: 1,\n",
    "    21: 2, 22: 2, 23: 2, 24: 2, 25: 2,\n",
    "    31: 3, 32: 3, 33: 3, 34: 3, 35: 3,\n",
    "    41: 4, 42: 4, 43: 4, 44: 4, 45: 4,\n",
    "    51: 5, 52: 5, 53: 5, 54: 5, 55: 5\n",
    "\n",
    "}\n",
    "\n",
    "dmap_family_age ={\n",
    "    11:1,12:2,13:3,14:4,15:5,\n",
    "    21:1,22:2,23:3,24:4,25:5,\n",
    "    31:1,32:2,33:3,34:4,35:5,\n",
    "    41:1,42:2,43:3,44:4,45:5,\n",
    "    51:1,52:2,53:3,54:4,55:5\n",
    "\n",
    "}\n",
    "azdias2_cat_mix_engineered['houshold_level'] = azdias2_cat_mix_engineered['CAMEO_INTL_2015'].map(dmap_houshold_level)\n",
    "azdias2_cat_mix_engineered['family_age'] = azdias2_cat_mix_engineered['CAMEO_INTL_2015'].map(dmap_family_age)\n",
    "azdias2_cat_mix_engineered = azdias2_cat_mix_engineered.drop(['CAMEO_INTL_2015'], axis=1)\n",
    "\n",
    "\n",
    "mixed_columns=mixed_columns.difference(['CAMEO_INTL_2015','PRAEGENDE_JUGENDJAHRE'])\n",
    "azdias2_cat_mix_engineered.drop(mixed_columns,axis=1,inplace=True)\n"
   ]
  },
  {
   "cell_type": "markdown",
   "metadata": {},
   "source": [
    "#### Discussion 1.2.2: Engineer Mixed-Type Features\n",
    "\n",
    "I did managed the two recommended features and removed the rest from the data"
   ]
  },
  {
   "cell_type": "markdown",
   "metadata": {},
   "source": [
    "#### Step 1.2.3: Complete Feature Selection\n",
    "\n",
    "In order to finish this step up, you need to make sure that your data frame now only has the columns that you want to keep. To summarize, the dataframe should consist of the following:\n",
    "- All numeric, interval, and ordinal type columns from the original dataset.\n",
    "- Binary categorical features (all numerically-encoded).\n",
    "- Engineered features from other multi-level categorical features and mixed features.\n",
    "\n",
    "Make sure that for any new columns that you have engineered, that you've excluded the original columns from the final dataset. Otherwise, their values will interfere with the analysis later on the project. For example, you should not keep \"PRAEGENDE_JUGENDJAHRE\", since its values won't be useful for the algorithm: only the values derived from it in the engineered features you created should be retained. As a reminder, your data should only be from **the subset with few or no missing values**."
   ]
  },
  {
   "cell_type": "code",
   "execution_count": 41,
   "metadata": {},
   "outputs": [],
   "source": [
    "# If there are other re-engineering tasks you need to perform, make sure you\n",
    "# take care of them here. (Dealing with missing data will come in step 2.1.)\n",
    "azdias3 = azdias2_cat_mix_engineered[azdias2_cat_mix_engineered.isnull().sum(axis=1) < 3].reset_index(drop=True)#get rid of many null rows"
   ]
  },
  {
   "cell_type": "code",
   "execution_count": 42,
   "metadata": {},
   "outputs": [
    {
     "data": {
      "text/plain": [
       "float64    57\n",
       "uint8      57\n",
       "dtype: int64"
      ]
     },
     "execution_count": 42,
     "metadata": {},
     "output_type": "execute_result"
    }
   ],
   "source": [
    "# Do whatever you need to in order to ensure that the dataframe only contains\n",
    "# the columns that should be passed to the algorithm functions.\n",
    "azdias3.get_dtype_counts()  # each of the types counts\n"
   ]
  },
  {
   "cell_type": "markdown",
   "metadata": {},
   "source": [
    "### Step 1.3: Create a Cleaning Function\n",
    "\n",
    "Even though you've finished cleaning up the general population demographics data, it's important to look ahead to the future and realize that you'll need to perform the same cleaning steps on the customer demographics data. In this substep, complete the function below to execute the main feature selection, encoding, and re-engineering steps you performed above. Then, when it comes to looking at the customer data in Step 3, you can just run this function on that DataFrame to get the trimmed dataset in a single step."
   ]
  },
  {
   "cell_type": "code",
   "execution_count": 43,
   "metadata": {},
   "outputs": [],
   "source": [
    "def clean_data(df):\n",
    "\n",
    "    \"\"\"\n",
    "    Perform feature trimming, re-encoding, and engineering for demographics\n",
    "    data\n",
    "\n",
    "    INPUT: Demographics DataFrame\n",
    "    OUTPUT: Trimmed and cleaned demographics DataFrame\n",
    "    \"\"\"\n",
    "    feat_info_reindexed=feat_info.set_index('attribute')\n",
    "    from sklearn.preprocessing import Imputer\n",
    "    # convert missing value codes into NaNs, ...\n",
    "    for col_name in df.columns:\n",
    "        df[col_name] = df[col_name].map(lambda x: np.nan if str(x) in feat_info_reindexed.loc[col_name].missing_or_unknown else x)\n",
    "\n",
    "    # remove selected columns and rows, ...\n",
    "    df.drop(out_columns, axis=1, inplace=True)\n",
    "    out2_columns = ['TITEL_KZ', 'ZABEOTYP', 'GEBAEUDETYP', 'CAMEO_DEUG_2015','CAMEO_DEU_2015']\n",
    "    df.drop(out2_columns, axis=1, inplace=True)\n",
    "\n",
    "    # select, re-encode, and engineer column values.\n",
    "    dmap_mainstream_avantgarde = {\n",
    "        1: 0, 3: 0, 5: 0, 8: 0, 10: 0, 12: 0, 14: 0,\n",
    "        2: 1, 4: 1, 6: 1, 7: 1, 9: 1, 11: 1, 13: 1, 15: 1}\n",
    "    dmap_e_w_ew = {\n",
    "        7: 0, 12: 0, 13: 0,\n",
    "        6: 1, 10: 1, 11: 1,\n",
    "        1: 2, 2: 2, 3: 2, 4: 2, 5: 2, 8: 2, 9: 2, 14: 2, 15: 2\n",
    "    }\n",
    "    dmap_gen = {\n",
    "        1: 40, 2: 40,\n",
    "        3: 50, 4: 50,\n",
    "        5: 60, 6: 60, 7: 60,\n",
    "        8: 70, 9: 70,\n",
    "        10: 80, 11: 80, 12: 80, 13: 80,\n",
    "        14: 90, 15: 90\n",
    "    }\n",
    "    dmap_houshold_level = {\n",
    "        11: 1, 12: 1, 13: 1, 14: 1, 15: 1,\n",
    "        21: 2, 22: 2, 23: 2, 24: 2, 25: 2,\n",
    "        31: 3, 32: 3, 33: 3, 34: 3, 35: 3,\n",
    "        41: 4, 42: 4, 43: 4, 44: 4, 45: 4,\n",
    "        51: 5, 52: 5, 53: 5, 54: 5, 55: 5\n",
    "\n",
    "    }\n",
    "\n",
    "    dmap_family_age ={\n",
    "        11:1,12:2,13:3,14:4,15:5,\n",
    "        21:1,22:2,23:3,24:4,25:5,\n",
    "        31:1,32:2,33:3,34:4,35:5,\n",
    "        41:1,42:2,43:3,44:4,45:5,\n",
    "        51:1,52:2,53:3,54:4,55:5\n",
    "\n",
    "    }\n",
    "\n",
    "    df['mainstream_avantgarde'] = df['PRAEGENDE_JUGENDJAHRE'].map(dmap_mainstream_avantgarde)\n",
    "    df['e_w_ew'] = df['PRAEGENDE_JUGENDJAHRE'].map(dmap_e_w_ew)\n",
    "    df['generation'] = df['PRAEGENDE_JUGENDJAHRE'].map(dmap_gen)\n",
    "\n",
    "    df['CAMEO_INTL_2015'][df['CAMEO_INTL_2015']=='XX']=np.nan\n",
    "    df['houshold_level'] = pd.to_numeric(df['CAMEO_INTL_2015']).map(dmap_houshold_level)\n",
    "    df['family_age'] = pd.to_numeric(df['CAMEO_INTL_2015']).map(dmap_family_age)\n",
    "\n",
    "\n",
    "    mixed_columns=['LP_LEBENSPHASE_FEIN', 'LP_LEBENSPHASE_GROB', 'PRAEGENDE_JUGENDJAHRE',\n",
    "                   'WOHNLAGE', 'CAMEO_INTL_2015', 'KBA05_BAUMAX', 'PLZ8_BAUMAX']\n",
    "    df.drop(mixed_columns,axis=1,inplace=True)\n",
    "\n",
    "    cat_columns=['CJT_GESAMTTYP', 'GFK_URLAUBERTYP', 'GREEN_AVANTGARDE',\n",
    "                 'LP_FAMILIE_FEIN', 'LP_FAMILIE_GROB', 'LP_STATUS_FEIN',\n",
    "                 'LP_STATUS_GROB', 'SOHO_KZ','OST_WEST_KZ']\n",
    "    # Return the cleaned dataframe.\n",
    "    df=pd.get_dummies(df, columns=cat_columns)\n",
    "\n",
    "    df_cleaned = df[df.isnull().sum(axis=1) < 3].reset_index(drop=True)#get rid of many null rows\n",
    "\n",
    "    imputer = Imputer(strategy='median')\n",
    "    df_cleaned.isnull().sum()[df_cleaned.isnull().sum()>0]\n",
    "\n",
    "    df_cleaned_null_removed=pd.DataFrame(imputer.fit_transform(df_cleaned),columns=df_cleaned.columns)\n",
    "    return df_cleaned_null_removed\n",
    "\n"
   ]
  },
  {
   "cell_type": "markdown",
   "metadata": {},
   "source": [
    "## Step 2: Feature Transformation\n",
    "\n",
    "### Step 2.1: Apply Feature Scaling\n",
    "\n",
    "Before we apply dimensionality reduction techniques to the data, we need to perform feature scaling so that the principal component vectors are not influenced by the natural differences in scale for features. Starting from this part of the project, you'll want to keep an eye on the [API reference page for sklearn](http://scikit-learn.org/stable/modules/classes.html) to help you navigate to all of the classes and functions that you'll need. In this substep, you'll need to check the following:\n",
    "\n",
    "- sklearn requires that data not have missing values in order for its estimators to work properly. So, before applying the scaler to your data, make sure that you've cleaned the DataFrame of the remaining missing values. This can be as simple as just removing all data points with missing data, or applying an [Imputer](http://scikit-learn.org/stable/modules/generated/sklearn.preprocessing.Imputer.html) to replace all missing values. You might also try a more complicated procedure where you temporarily remove missing values in order to compute the scaling parameters before re-introducing those missing values and applying imputation. Think about how much missing data you have and what possible effects each approach might have on your analysis, and justify your decision in the discussion section below.\n",
    "- For the actual scaling function, a [StandardScaler](http://scikit-learn.org/stable/modules/generated/sklearn.preprocessing.StandardScaler.html) instance is suggested, scaling each feature to mean 0 and standard deviation 1.\n",
    "- For these classes, you can make use of the `.fit_transform()` method to both fit a procedure to the data as well as apply the transformation to the data at the same time. Don't forget to keep the fit sklearn objects handy, since you'll be applying them to the customer demographics data towards the end of the project."
   ]
  },
  {
   "cell_type": "code",
   "execution_count": 44,
   "metadata": {},
   "outputs": [
    {
     "name": "stdout",
     "output_type": "stream",
     "text": [
      "ALTERSKATEGORIE_GROB     40596\n",
      "FINANZ_MINIMALIST        54834\n",
      "FINANZ_VORSORGER         50949\n",
      "FINANZ_HAUSBAUER         65906\n",
      "RETOURTYP_BK_S             705\n",
      "SEMIO_SOZ                19589\n",
      "SEMIO_FAM                22705\n",
      "SEMIO_REL                29335\n",
      "SEMIO_MAT                39158\n",
      "SEMIO_VERT               10126\n",
      "SEMIO_LUST               56694\n",
      "SEMIO_ERL                10866\n",
      "SEMIO_KULT               38039\n",
      "SEMIO_RAT                15571\n",
      "SEMIO_KRIT               15493\n",
      "SEMIO_DOM                 5283\n",
      "SEMIO_KAEM               16764\n",
      "SEMIO_PFLICHT            25617\n",
      "SEMIO_TRADV              18979\n",
      "ALTER_HH                     0\n",
      "ANZ_PERSONEN                 0\n",
      "ANZ_TITEL                    0\n",
      "HH_EINKOMMEN_SCORE           0\n",
      "W_KEIT_KIND_HH           10769\n",
      "WOHNDAUER_2008               0\n",
      "ANZ_HAUSHALTE_AKTIV          0\n",
      "ANZ_HH_TITEL               278\n",
      "KONSUMNAEHE                 17\n",
      "MIN_GEBAEUDEJAHR             0\n",
      "KBA05_ANTG1                  0\n",
      "                         ...  \n",
      "LP_FAMILIE_GROB_0.0          0\n",
      "LP_FAMILIE_GROB_1.0          0\n",
      "LP_FAMILIE_GROB_2.0          0\n",
      "LP_FAMILIE_GROB_3.0          0\n",
      "LP_FAMILIE_GROB_4.0          0\n",
      "LP_FAMILIE_GROB_5.0          0\n",
      "LP_STATUS_FEIN_1.0           0\n",
      "LP_STATUS_FEIN_2.0           0\n",
      "LP_STATUS_FEIN_3.0           0\n",
      "LP_STATUS_FEIN_4.0           0\n",
      "LP_STATUS_FEIN_5.0           0\n",
      "LP_STATUS_FEIN_6.0           0\n",
      "LP_STATUS_FEIN_7.0           0\n",
      "LP_STATUS_FEIN_8.0           0\n",
      "LP_STATUS_FEIN_9.0           0\n",
      "LP_STATUS_FEIN_10.0          0\n",
      "LP_STATUS_GROB_1.0           0\n",
      "LP_STATUS_GROB_2.0           0\n",
      "LP_STATUS_GROB_3.0           0\n",
      "LP_STATUS_GROB_4.0           0\n",
      "LP_STATUS_GROB_5.0           0\n",
      "SOHO_KZ_0.0                  0\n",
      "SOHO_KZ_1.0                  0\n",
      "OST_WEST_KZ_0.0              0\n",
      "OST_WEST_KZ_1.0              0\n",
      "mainstream_avantgarde        0\n",
      "e_w_ew                       0\n",
      "generation                   0\n",
      "houshold_level             401\n",
      "family_age                 401\n",
      "Length: 114, dtype: int64\n",
      "ALTERSKATEGORIE_GROB     0\n",
      "FINANZ_MINIMALIST        0\n",
      "FINANZ_VORSORGER         0\n",
      "FINANZ_HAUSBAUER         0\n",
      "RETOURTYP_BK_S           0\n",
      "SEMIO_SOZ                0\n",
      "SEMIO_FAM                0\n",
      "SEMIO_REL                0\n",
      "SEMIO_MAT                0\n",
      "SEMIO_VERT               0\n",
      "SEMIO_LUST               0\n",
      "SEMIO_ERL                0\n",
      "SEMIO_KULT               0\n",
      "SEMIO_RAT                0\n",
      "SEMIO_KRIT               0\n",
      "SEMIO_DOM                0\n",
      "SEMIO_KAEM               0\n",
      "SEMIO_PFLICHT            0\n",
      "SEMIO_TRADV              0\n",
      "ALTER_HH                 0\n",
      "ANZ_PERSONEN             0\n",
      "ANZ_TITEL                0\n",
      "HH_EINKOMMEN_SCORE       0\n",
      "W_KEIT_KIND_HH           0\n",
      "WOHNDAUER_2008           0\n",
      "ANZ_HAUSHALTE_AKTIV      0\n",
      "ANZ_HH_TITEL             0\n",
      "KONSUMNAEHE              0\n",
      "MIN_GEBAEUDEJAHR         0\n",
      "KBA05_ANTG1              0\n",
      "                        ..\n",
      "LP_FAMILIE_GROB_0.0      0\n",
      "LP_FAMILIE_GROB_1.0      0\n",
      "LP_FAMILIE_GROB_2.0      0\n",
      "LP_FAMILIE_GROB_3.0      0\n",
      "LP_FAMILIE_GROB_4.0      0\n",
      "LP_FAMILIE_GROB_5.0      0\n",
      "LP_STATUS_FEIN_1.0       0\n",
      "LP_STATUS_FEIN_2.0       0\n",
      "LP_STATUS_FEIN_3.0       0\n",
      "LP_STATUS_FEIN_4.0       0\n",
      "LP_STATUS_FEIN_5.0       0\n",
      "LP_STATUS_FEIN_6.0       0\n",
      "LP_STATUS_FEIN_7.0       0\n",
      "LP_STATUS_FEIN_8.0       0\n",
      "LP_STATUS_FEIN_9.0       0\n",
      "LP_STATUS_FEIN_10.0      0\n",
      "LP_STATUS_GROB_1.0       0\n",
      "LP_STATUS_GROB_2.0       0\n",
      "LP_STATUS_GROB_3.0       0\n",
      "LP_STATUS_GROB_4.0       0\n",
      "LP_STATUS_GROB_5.0       0\n",
      "SOHO_KZ_0.0              0\n",
      "SOHO_KZ_1.0              0\n",
      "OST_WEST_KZ_0.0          0\n",
      "OST_WEST_KZ_1.0          0\n",
      "mainstream_avantgarde    0\n",
      "e_w_ew                   0\n",
      "generation               0\n",
      "houshold_level           0\n",
      "family_age               0\n",
      "Length: 114, dtype: int64\n"
     ]
    }
   ],
   "source": [
    "# If you've not yet cleaned the dataset of all NaN values, then investigate and\n",
    "# do that now.\n",
    "\n",
    "from sklearn.preprocessing import Imputer\n",
    "imputer = Imputer(strategy='median')\n",
    "\n",
    "azdias4=pd.DataFrame(imputer.fit_transform(azdias3),columns=azdias3.columns)\n",
    "print(azdias3.shape[0]-azdias3.count(axis=0))#number of nulls before imputing\n",
    "print(azdias3.shape[0]-azdias4.count(axis=0))#number of nulls after imputing"
   ]
  },
  {
   "cell_type": "code",
   "execution_count": 45,
   "metadata": {},
   "outputs": [],
   "source": [
    "# Apply feature scaling to the general population demographics data.\n",
    "azdias_=azdias4.copy()\n",
    "from sklearn.preprocessing import StandardScaler\n",
    "scaler = StandardScaler()\n",
    "azdias_standardized = scaler.fit_transform(azdias_)"
   ]
  },
  {
   "cell_type": "markdown",
   "metadata": {},
   "source": [
    "### Discussion 2.1: Apply Feature Scaling\n",
    "\n",
    "We could get rid of all the nulls but we will be left with very small portion of the data, so I decided to somehow fill them with a value that represents the population. I could select the mean but it is going to be sensetive to outliers so I selectd medial to replace the nan values. The features also were standardized to make sure the range of the values wont bias the clustering."
   ]
  },
  {
   "cell_type": "markdown",
   "metadata": {},
   "source": [
    "### Step 2.2: Perform Dimensionality Reduction\n",
    "\n",
    "On your scaled data, you are now ready to apply dimensionality reduction techniques.\n",
    "\n",
    "- Use sklearn's [PCA](http://scikit-learn.org/stable/modules/generated/sklearn.decomposition.PCA.html) class to apply principal component analysis on the data, thus finding the vectors of maximal variance in the data. To start, you should not set any parameters (so all components are computed) or set a number of components that is at least half the number of features (so there's enough features to see the general trend in variability).\n",
    "- Check out the ratio of variance explained by each principal component as well as the cumulative variance explained. Try plotting the cumulative or sequential values using matplotlib's [`plot()`](https://matplotlib.org/api/_as_gen/matplotlib.pyplot.plot.html) function. Based on what you find, select a value for the number of transformed features you'll retain for the clustering part of the project.\n",
    "- Once you've made a choice for the number of components to keep, make sure you re-fit a PCA instance to perform the decided-on transformation."
   ]
  },
  {
   "cell_type": "code",
   "execution_count": 46,
   "metadata": {},
   "outputs": [],
   "source": [
    "# Apply PCA to the data.\n",
    "from sklearn.decomposition import PCA\n",
    "pca = PCA(100)\n",
    "azdias_standardized_PCA100 = pca.fit_transform(azdias_standardized)\n"
   ]
  },
  {
   "cell_type": "code",
   "execution_count": 47,
   "metadata": {},
   "outputs": [
    {
     "name": "stderr",
     "output_type": "stream",
     "text": [
      "/opt/conda/lib/python3.6/site-packages/matplotlib/cbook/deprecation.py:106: MatplotlibDeprecationWarning: Adding an axes using the same arguments as a previous axes currently reuses the earlier instance.  In a future version, a new instance will always be created and returned.  Meanwhile, this warning can be suppressed, and the future behavior ensured, by passing a unique label to each axes instance.\n",
      "  warnings.warn(message, mplDeprecation, stacklevel=1)\n"
     ]
    },
    {
     "data": {
      "image/png": "[encoded data removed]",
      "text/plain": [
       "<matplotlib.figure.Figure at 0x7ff41e0971d0>"
      ]
     },
     "metadata": {
      "needs_background": "light"
     },
     "output_type": "display_data"
    }
   ],
   "source": [
    "# Investigate the variance accounted for by each principal component.\n",
    "def scree_plot(pca):\n",
    "    '''\n",
    "    Creates a scree plot associated with the principal components\n",
    "\n",
    "    INPUT: pca - the result of instantian of PCA in scikit learn\n",
    "\n",
    "    OUTPUT:\n",
    "            None\n",
    "    '''\n",
    "    num_components = len(pca.explained_variance_ratio_)\n",
    "    ind = np.arange(num_components)\n",
    "    vals = pca.explained_variance_ratio_\n",
    "\n",
    "    plt.figure(figsize=(22, 16))\n",
    "    plt.grid(True)\n",
    "    ax = plt.subplot(111)\n",
    "    cumvals = np.cumsum(vals)\n",
    "    ax.bar(ind, vals)\n",
    "    ax.plot(ind, cumvals)\n",
    "    for i in range(num_components):\n",
    "        ax.annotate(r\"%s%%\" % ((str(vals[i] * 100)[:4])), (ind[i] + 0.2, vals[i]), va=\"bottom\",\n",
    "                    ha=\"center\", fontsize=12)\n",
    "\n",
    "    ax.xaxis.set_tick_params(width=0)\n",
    "    ax.yaxis.set_tick_params(width=2, length=12)\n",
    "\n",
    "    ax.set_xlabel(\"Principal Component\")\n",
    "    ax.set_ylabel(\"Variance Explained (%)\")\n",
    "    plt.title('Explained Variance Per Principal Component')\n",
    "    \n",
    "scree_plot(pca)\n"
   ]
  },
  {
   "cell_type": "code",
   "execution_count": 48,
   "metadata": {},
   "outputs": [
    {
     "name": "stderr",
     "output_type": "stream",
     "text": [
      "/opt/conda/lib/python3.6/site-packages/matplotlib/cbook/deprecation.py:106: MatplotlibDeprecationWarning: Adding an axes using the same arguments as a previous axes currently reuses the earlier instance.  In a future version, a new instance will always be created and returned.  Meanwhile, this warning can be suppressed, and the future behavior ensured, by passing a unique label to each axes instance.\n",
      "  warnings.warn(message, mplDeprecation, stacklevel=1)\n"
     ]
    },
    {
     "data": {
      "image/png": "[encoded data removed]",
      "text/plain": [
       "<matplotlib.figure.Figure at 0x7ff4498d8630>"
      ]
     },
     "metadata": {
      "needs_background": "light"
     },
     "output_type": "display_data"
    }
   ],
   "source": [
    "# Re-apply PCA to the data while selecting for number of components to retain.\n",
    "#looks like that 60 PCA would capture almost 90% of the variances in the data\n",
    "\n",
    "pca = PCA(60)\n",
    "azdias_standardized_PCA60 = pca.fit_transform(azdias_standardized)\n",
    "scree_plot(pca)"
   ]
  },
  {
   "cell_type": "markdown",
   "metadata": {},
   "source": [
    "### Discussion 2.2: Perform Dimensionality Reduction\n",
    "\n",
    "Based on the last two plots I decided to retain 60 PCA components (out of all 114), since it keeps almost 90 percent of the variability in the data"
   ]
  },
  {
   "cell_type": "markdown",
   "metadata": {},
   "source": [
    "### Step 2.3: Interpret Principal Components\n",
    "\n",
    "Now that we have our transformed principal components, it's a nice idea to check out the weight of each variable on the first few components to see if they can be interpreted in some fashion.\n",
    "\n",
    "As a reminder, each principal component is a unit vector that points in the direction of highest variance (after accounting for the variance captured by earlier principal components). The further a weight is from zero, the more the principal component is in the direction of the corresponding feature. If two features have large weights of the same sign (both positive or both negative), then increases in one tend expect to be associated with increases in the other. To contrast, features with different signs can be expected to show a negative correlation: increases in one variable should result in a decrease in the other.\n",
    "\n",
    "- To investigate the features, you should map each weight to their corresponding feature name, then sort the features according to weight. The most interesting features for each principal component, then, will be those at the beginning and end of the sorted list. Use the data dictionary document to help you understand these most prominent features, their relationships, and what a positive or negative value on the principal component might indicate.\n",
    "- You should investigate and interpret feature associations from the first three principal components in this substep. To help facilitate this, you should write a function that you can call at any time to print the sorted list of feature weights, for the *i*-th principal component. This might come in handy in the next step of the project, when you interpret the tendencies of the discovered clusters."
   ]
  },
  {
   "cell_type": "code",
   "execution_count": 54,
   "metadata": {},
   "outputs": [],
   "source": [
    "# Map weights for the first principal component to corresponding feature names\n",
    "# and then print the linked values, sorted by weight.\n",
    "# HINT: Try defining a function here or in a new cell that you can reuse in the\n",
    "# other cells.\n",
    "def pca_col_weights(pca,df,pca_num):\n",
    "    df_col=pca_num-1;\n",
    "    df_weights=pd.DataFrame(data=pca.components_,columns=df.columns);\n",
    "    df_weights_sorted=df_weights.head(pca_num).T.sort_values(by=df_col,ascending=False);\n",
    "    # print(df_weights_sorted.iloc[:,df_col])\n",
    "    plt.figure(figsize=(22, 16))\n",
    "    pd.concat([df_weights_sorted.head(),df_weights_sorted.tail()]).plot.bar();\n",
    "    return df_weights_sorted.iloc[:,df_col];\n"
   ]
  },
  {
   "cell_type": "code",
   "execution_count": 55,
   "metadata": {},
   "outputs": [
    {
     "data": {
      "text/plain": [
       "LP_STATUS_GROB_1.0       0.212802\n",
       "PLZ8_ANTG3               0.206500\n",
       "HH_EINKOMMEN_SCORE       0.201134\n",
       "PLZ8_ANTG4               0.200764\n",
       "houshold_level           0.197098\n",
       "ORTSGR_KLS9              0.178794\n",
       "EWDICHTE                 0.177787\n",
       "LP_STATUS_FEIN_1.0       0.174488\n",
       "KBA05_ANTG4              0.148731\n",
       "PLZ8_ANTG2               0.139030\n",
       "ANZ_HAUSHALTE_AKTIV      0.132715\n",
       "ARBEIT                   0.130898\n",
       "KBA05_ANTG3              0.130187\n",
       "RELAT_AB                 0.123599\n",
       "GREEN_AVANTGARDE_0       0.120515\n",
       "FINANZ_HAUSBAUER         0.119259\n",
       "LP_FAMILIE_GROB_1.0      0.107431\n",
       "LP_FAMILIE_FEIN_1.0      0.107431\n",
       "REGIOTYP                 0.089091\n",
       "LP_STATUS_FEIN_2.0       0.082095\n",
       "SEMIO_PFLICHT            0.074663\n",
       "KKK                      0.066113\n",
       "SEMIO_REL                0.062770\n",
       "W_KEIT_KIND_HH           0.061637\n",
       "GFK_URLAUBERTYP_12.0     0.060096\n",
       "SEMIO_KULT               0.052310\n",
       "SEMIO_FAM                0.051664\n",
       "OST_WEST_KZ_0.0          0.046669\n",
       "generation               0.045790\n",
       "SEMIO_SOZ                0.043862\n",
       "                           ...   \n",
       "ALTER_HH                -0.037015\n",
       "LP_FAMILIE_GROB_4.0     -0.038272\n",
       "OST_WEST_KZ_1.0         -0.046669\n",
       "WOHNDAUER_2008          -0.049426\n",
       "FINANZ_VORSORGER        -0.050732\n",
       "MIN_GEBAEUDEJAHR        -0.053289\n",
       "LP_FAMILIE_FEIN_10.0    -0.053967\n",
       "ALTERSKATEGORIE_GROB    -0.058930\n",
       "LP_FAMILIE_FEIN_11.0    -0.058966\n",
       "KBA13_ANZAHL_PKW        -0.070938\n",
       "LP_FAMILIE_GROB_5.0     -0.082527\n",
       "ONLINE_AFFINITAET       -0.084428\n",
       "GEBAEUDETYP_RASTER      -0.103718\n",
       "ANZ_PERSONEN            -0.106652\n",
       "LP_STATUS_FEIN_9.0      -0.112323\n",
       "LP_STATUS_GROB_4.0      -0.114002\n",
       "BALLRAUM                -0.115040\n",
       "family_age              -0.118458\n",
       "mainstream_avantgarde   -0.120515\n",
       "GREEN_AVANTGARDE_1      -0.120515\n",
       "LP_STATUS_FEIN_10.0     -0.126039\n",
       "LP_STATUS_GROB_5.0      -0.126039\n",
       "INNENSTADT              -0.148352\n",
       "KONSUMNAEHE             -0.151104\n",
       "PLZ8_GBZ                -0.153536\n",
       "FINANZ_MINIMALIST       -0.180573\n",
       "PLZ8_ANTG1              -0.206465\n",
       "KBA05_GBZ               -0.209355\n",
       "KBA05_ANTG1             -0.216240\n",
       "MOBI_REGIO              -0.232627\n",
       "Name: 0, Length: 114, dtype: float64"
      ]
     },
     "execution_count": 55,
     "metadata": {},
     "output_type": "execute_result"
    },
    {
     "data": {
      "text/plain": [
       "<matplotlib.figure.Figure at 0x7ff41deb92e8>"
      ]
     },
     "metadata": {},
     "output_type": "display_data"
    },
    {
     "data": {
      "image/png": "[encoded data removed]",
      "text/plain": [
       "<matplotlib.figure.Figure at 0x7ff41cf18e80>"
      ]
     },
     "metadata": {
      "needs_background": "light"
     },
     "output_type": "display_data"
    }
   ],
   "source": [
    "# Map weights for the second principal component to corresponding feature names\n",
    "# and then print the linked values, sorted by weight.\n",
    "pca_col_weights(pca,azdias_,1)\n"
   ]
  },
  {
   "cell_type": "code",
   "execution_count": 51,
   "metadata": {},
   "outputs": [
    {
     "data": {
      "text/plain": [
       "GREEN_AVANTGARDE_1       0.319804\n",
       "mainstream_avantgarde    0.319804\n",
       "LP_STATUS_GROB_5.0       0.257193\n",
       "LP_STATUS_FEIN_10.0      0.257193\n",
       "ORTSGR_KLS9              0.208954\n",
       "EWDICHTE                 0.206908\n",
       "ANZ_PERSONEN             0.141157\n",
       "ONLINE_AFFINITAET        0.131414\n",
       "PLZ8_ANTG3               0.116342\n",
       "LP_FAMILIE_GROB_5.0      0.113099\n",
       "PLZ8_ANTG4               0.106002\n",
       "RELAT_AB                 0.099428\n",
       "PLZ8_ANTG2               0.091669\n",
       "ARBEIT                   0.086214\n",
       "ALTER_HH                 0.078322\n",
       "LP_FAMILIE_FEIN_10.0     0.075091\n",
       "LP_FAMILIE_FEIN_11.0     0.074365\n",
       "PLZ8_HHZ                 0.071636\n",
       "LP_STATUS_FEIN_3.0       0.068735\n",
       "LP_FAMILIE_GROB_4.0      0.065060\n",
       "LP_STATUS_GROB_3.0       0.056242\n",
       "SEMIO_SOZ                0.054984\n",
       "SEMIO_VERT               0.053624\n",
       "LP_FAMILIE_FEIN_8.0      0.051383\n",
       "SEMIO_REL                0.050049\n",
       "SEMIO_FAM                0.049936\n",
       "SEMIO_TRADV              0.049031\n",
       "LP_STATUS_FEIN_7.0       0.048661\n",
       "CJT_GESAMTTYP_6.0        0.046346\n",
       "generation               0.045888\n",
       "                           ...   \n",
       "KBA05_GBZ               -0.027448\n",
       "SEMIO_KRIT              -0.031987\n",
       "FINANZ_VORSORGER        -0.033388\n",
       "FINANZ_HAUSBAUER        -0.034535\n",
       "CJT_GESAMTTYP_1.0       -0.036120\n",
       "MIN_GEBAEUDEJAHR        -0.036154\n",
       "OST_WEST_KZ_0.0         -0.036328\n",
       "PLZ8_GBZ                -0.039404\n",
       "LP_STATUS_GROB_2.0      -0.041194\n",
       "LP_STATUS_FEIN_8.0      -0.050150\n",
       "GFK_URLAUBERTYP_12.0    -0.053106\n",
       "ALTERSKATEGORIE_GROB    -0.054039\n",
       "REGIOTYP                -0.056514\n",
       "SEMIO_ERL               -0.062502\n",
       "CJT_GESAMTTYP_2.0       -0.063071\n",
       "GEBAEUDETYP_RASTER      -0.066489\n",
       "PLZ8_ANTG1              -0.082329\n",
       "W_KEIT_KIND_HH          -0.083948\n",
       "KKK                     -0.084752\n",
       "e_w_ew                  -0.089119\n",
       "KONSUMNAEHE             -0.112575\n",
       "LP_FAMILIE_FEIN_1.0     -0.139666\n",
       "LP_FAMILIE_GROB_1.0     -0.139666\n",
       "LP_STATUS_FEIN_4.0      -0.143416\n",
       "HH_EINKOMMEN_SCORE      -0.149302\n",
       "BALLRAUM                -0.164530\n",
       "INNENSTADT              -0.169103\n",
       "LP_STATUS_FEIN_9.0      -0.189160\n",
       "LP_STATUS_GROB_4.0      -0.198991\n",
       "GREEN_AVANTGARDE_0      -0.319804\n",
       "Name: 2, Length: 114, dtype: float64"
      ]
     },
     "execution_count": 51,
     "metadata": {},
     "output_type": "execute_result"
    },
    {
     "data": {
      "image/png": "[encoded data removed]",
      "text/plain": [
       "<matplotlib.figure.Figure at 0x7ff449d5c4a8>"
      ]
     },
     "metadata": {
      "needs_background": "light"
     },
     "output_type": "display_data"
    }
   ],
   "source": [
    "# Map weights for the third principal component to corresponding feature names\n",
    "# and then print the linked values, sorted by weight.\n",
    "pca_col_weights(pca,azdias_,3)"
   ]
  },
  {
   "cell_type": "markdown",
   "metadata": {},
   "source": [
    "### Discussion 2.3: Interpret Principal Components\n",
    "- The strongest positive feature weights: LP_STATUS_GROB_1.0 which is \"low-income earners \"\n",
    "\n",
    "\n",
    "- The strongest negative feature weights: GREEN_AVANTGARDE_0 which is \"not a member of green avantgarde\""
   ]
  },
  {
   "cell_type": "markdown",
   "metadata": {},
   "source": [
    "## Step 3: Clustering\n",
    "\n",
    "### Step 3.1: Apply Clustering to General Population\n",
    "\n",
    "You've assessed and cleaned the demographics data, then scaled and transformed them. Now, it's time to see how the data clusters in the principal components space. In this substep, you will apply k-means clustering to the dataset and use the average within-cluster distances from each point to their assigned cluster's centroid to decide on a number of clusters to keep.\n",
    "\n",
    "- Use sklearn's [KMeans](http://scikit-learn.org/stable/modules/generated/sklearn.cluster.KMeans.html#sklearn.cluster.KMeans) class to perform k-means clustering on the PCA-transformed data.\n",
    "- Then, compute the average difference from each point to its assigned cluster's center. **Hint**: The KMeans object's `.score()` method might be useful here, but note that in sklearn, scores tend to be defined so that larger is better. Try applying it to a small, toy dataset, or use an internet search to help your understanding.\n",
    "- Perform the above two steps for a number of different cluster counts. You can then see how the average distance decreases with an increasing number of clusters. However, each additional cluster provides a smaller net benefit. Use this fact to select a final number of clusters in which to group the data. **Warning**: because of the large size of the dataset, it can take a long time for the algorithm to resolve. The more clusters to fit, the longer the algorithm will take. You should test for cluster counts through at least 10 clusters to get the full picture, but you shouldn't need to test for a number of clusters above about 30.\n",
    "- Once you've selected a final number of clusters to use, re-fit a KMeans instance to perform the clustering operation. Make sure that you also obtain the cluster assignments for the general demographics data, since you'll be using them in the final Step 3.3."
   ]
  },
  {
   "cell_type": "code",
   "execution_count": 56,
   "metadata": {},
   "outputs": [],
   "source": [
    "# Over a number of different cluster counts...\n",
    "\n",
    "\n",
    "    # run k-means clustering on the data and...\n",
    "    \n",
    "    \n",
    "    # compute the average within-cluster distances.\n",
    "from sklearn.cluster import KMeans\n",
    "\n",
    "def get_kmeans_score(data, center):\n",
    "    kmeans = KMeans(n_clusters=center)\n",
    "    model = kmeans.fit(data)\n",
    "    score = np.abs(model.score(data))\n",
    "    return score\n",
    "\n",
    "    "
   ]
  },
  {
   "cell_type": "code",
   "execution_count": 57,
   "metadata": {},
   "outputs": [
    {
     "data": {
      "text/plain": [
       "Text(0.5,1,'SSE vs. K')"
      ]
     },
     "execution_count": 57,
     "metadata": {},
     "output_type": "execute_result"
    },
    {
     "data": {
      "image/png": "[encoded data removed]",
      "text/plain": [
       "<matplotlib.figure.Figure at 0x7ff419791f60>"
      ]
     },
     "metadata": {
      "needs_background": "light"
     },
     "output_type": "display_data"
    }
   ],
   "source": [
    "# Investigate the change in within-cluster distance across number of clusters.\n",
    "# HINT: Use matplotlib's plot function to visualize this relationship.\n",
    "\n",
    "scores = []\n",
    "centers = list(range(5,70,10))\n",
    "\n",
    "for center in centers:\n",
    "    scores.append(get_kmeans_score(azdias_standardized_PCA60, center))\n",
    "\n",
    "plt.plot(centers, scores, linestyle='--', marker='o', color='b');\n",
    "plt.xlabel('K');\n",
    "plt.ylabel('SSE');\n",
    "plt.title('SSE vs. K')"
   ]
  },
  {
   "cell_type": "code",
   "execution_count": 58,
   "metadata": {},
   "outputs": [
    {
     "data": {
      "text/plain": [
       "Text(0.5,1,'SSE vs. K')"
      ]
     },
     "execution_count": 58,
     "metadata": {},
     "output_type": "execute_result"
    },
    {
     "data": {
      "image/png": "[encoded data removed]",
      "text/plain": [
       "<matplotlib.figure.Figure at 0x7ff419227ef0>"
      ]
     },
     "metadata": {
      "needs_background": "light"
     },
     "output_type": "display_data"
    }
   ],
   "source": [
    "# Investigate the change in within-cluster distance across number of clusters.\n",
    "# HINT: Use matplotlib's plot function to visualize this relationship.\n",
    "\n",
    "scores = []\n",
    "centers = list(range(25,35,2))\n",
    "\n",
    "for center in centers:\n",
    "    scores.append(get_kmeans_score(azdias_standardized_PCA60, center))\n",
    "\n",
    "plt.plot(centers, scores, linestyle='--', marker='o', color='b');\n",
    "plt.xlabel('K');\n",
    "plt.ylabel('SSE');\n",
    "plt.title('SSE vs. K')"
   ]
  },
  {
   "cell_type": "code",
   "execution_count": 60,
   "metadata": {},
   "outputs": [],
   "source": [
    "# I will select 25 number of clusters\n",
    "kmeans = KMeans(25).fit(azdias_standardized_PCA60)\n"
   ]
  },
  {
   "cell_type": "code",
   "execution_count": 61,
   "metadata": {},
   "outputs": [],
   "source": [
    "# Re-fit the k-means model with the selected number of clusters and obtain\n",
    "# cluster predictions for the general population demographics data.\n",
    "kmeans_labels4general = kmeans.predict(azdias_standardized_PCA60)"
   ]
  },
  {
   "cell_type": "raw",
   "metadata": {},
   "source": []
  },
  {
   "cell_type": "markdown",
   "metadata": {},
   "source": [
    "### Discussion 3.1: Apply Clustering to General Population\n",
    "\n",
    "according to the two previous plots the first elbow plot with big step size shows that after almost 25 there is not much improvement in the clustering since it is improved slightly by adding to cluyster numbers. since the step size is 10 I focused on the interval in the second plot, from 25 to 30 to investigate it further with smaller step size, and it turns out that 25 cluster number is a good choiuce afterwhich we wont achieve significantly better results by increasing the cluster numbers."
   ]
  },
  {
   "cell_type": "markdown",
   "metadata": {},
   "source": [
    "### Step 3.2: Apply All Steps to the Customer Data\n",
    "\n",
    "Now that you have clusters and cluster centers for the general population, it's time to see how the customer data maps on to those clusters. Take care to not confuse this for re-fitting all of the models to the customer data. Instead, you're going to use the fits from the general population to clean, transform, and cluster the customer data. In the last step of the project, you will interpret how the general population fits apply to the customer data.\n",
    "\n",
    "- Don't forget when loading in the customers data, that it is semicolon (`;`) delimited.\n",
    "- Apply the same feature wrangling, selection, and engineering steps to the customer demographics using the `clean_data()` function you created earlier. (You can assume that the customer demographics data has similar meaning behind missing data patterns as the general demographics data.)\n",
    "- Use the sklearn objects from the general demographics data, and apply their transformations to the customers data. That is, you should not be using a `.fit()` or `.fit_transform()` method to re-fit the old objects, nor should you be creating new sklearn objects! Carry the data through the feature scaling, PCA, and clustering steps, obtaining cluster assignments for all of the data in the customer demographics data."
   ]
  },
  {
   "cell_type": "code",
   "execution_count": 64,
   "metadata": {},
   "outputs": [],
   "source": [
    "# Load in the customer demographics data.\n",
    "# customers = pd.read_csv('Udacity_CUSTOMERS_Subset.csv', sep=';')\n",
    "# customers_processed  = clean_data(df)\n",
    "customers_processed = pd.read_csv('customers_processed.csv', sep=';')#this is the outcome of last 2 commented lines\n"
   ]
  },
  {
   "cell_type": "code",
   "execution_count": 65,
   "metadata": {},
   "outputs": [],
   "source": [
    "# Apply preprocessing, feature transformation, and clustering from the general\n",
    "# demographics onto the customer data, obtaining cluster predictions for the\n",
    "# customer demographics data.\n",
    "\n",
    "customers_standardized = scaler.transform(customers_processed)\n",
    "customers_standardized_PCA60= pca.fit_transform(customers_standardized)\n",
    "kmeans_labels4customers = kmeans.predict(customers_standardized_PCA60)"
   ]
  },
  {
   "cell_type": "markdown",
   "metadata": {},
   "source": [
    "### Step 3.3: Compare Customer Data to Demographics Data\n",
    "\n",
    "At this point, you have clustered data based on demographics of the general population of Germany, and seen how the customer data for a mail-order sales company maps onto those demographic clusters. In this final substep, you will compare the two cluster distributions to see where the strongest customer base for the company is.\n",
    "\n",
    "Consider the proportion of persons in each cluster for the general population, and the proportions for the customers. If we think the company's customer base to be universal, then the cluster assignment proportions should be fairly similar between the two. If there are only particular segments of the population that are interested in the company's products, then we should see a mismatch from one to the other. If there is a higher proportion of persons in a cluster for the customer data compared to the general population (e.g. 5% of persons are assigned to a cluster for the general population, but 15% of the customer data is closest to that cluster's centroid) then that suggests the people in that cluster to be a target audience for the company. On the other hand, the proportion of the data in a cluster being larger in the general population than the customer data (e.g. only 2% of customers closest to a population centroid that captures 6% of the data) suggests that group of persons to be outside of the target demographics.\n",
    "\n",
    "Take a look at the following points in this step:\n",
    "\n",
    "- Compute the proportion of data points in each cluster for the general population and the customer data. Visualizations will be useful here: both for the individual dataset proportions, but also to visualize the ratios in cluster representation between groups. Seaborn's [`countplot()`](https://seaborn.pydata.org/generated/seaborn.countplot.html) or [`barplot()`](https://seaborn.pydata.org/generated/seaborn.barplot.html) function could be handy.\n",
    "  - Recall the analysis you performed in step 1.1.3 of the project, where you separated out certain data points from the dataset if they had more than a specified threshold of missing values. If you found that this group was qualitatively different from the main bulk of the data, you should treat this as an additional data cluster in this analysis. Make sure that you account for the number of data points in this subset, for both the general population and customer datasets, when making your computations!\n",
    "- Which cluster or clusters are overrepresented in the customer dataset compared to the general population? Select at least one such cluster and infer what kind of people might be represented by that cluster. Use the principal component interpretations from step 2.3 or look at additional components to help you make this inference. Alternatively, you can use the `.inverse_transform()` method of the PCA and StandardScaler objects to transform centroids back to the original data space and interpret the retrieved values directly.\n",
    "- Perform a similar investigation for the underrepresented clusters. Which cluster or clusters are underrepresented in the customer dataset compared to the general population, and what kinds of people are typified by these clusters?"
   ]
  },
  {
   "cell_type": "code",
   "execution_count": 74,
   "metadata": {},
   "outputs": [
    {
     "data": {
      "image/png": "[encoded data removed]",
      "text/plain": [
       "<matplotlib.figure.Figure at 0x7ff41cec0828>"
      ]
     },
     "metadata": {
      "needs_background": "light"
     },
     "output_type": "display_data"
    },
    {
     "data": {
      "image/png": "[encoded data removed]",
      "text/plain": [
       "<matplotlib.figure.Figure at 0x7ff418086438>"
      ]
     },
     "metadata": {
      "needs_background": "light"
     },
     "output_type": "display_data"
    }
   ],
   "source": [
    "# Compare the proportion of data in each cluster for the customer data to the\n",
    "# proportion of data in each cluster for the general population.\n",
    "# Compare the proportion of data in each cluster for the customer data to the\n",
    "# proportion of data in each cluster for the general population.\n",
    "df_=pd.DataFrame({'customers':kmeans_labels4customers}).hist(bins=25)\n",
    "df_=pd.DataFrame({'general':kmeans_labels4general}).hist(bins=25)"
   ]
  },
  {
   "cell_type": "code",
   "execution_count": 66,
   "metadata": {},
   "outputs": [
    {
     "data": {
      "image/png": "[encoded data removed]",
      "text/plain": [
       "<matplotlib.figure.Figure at 0x7ff41ce61828>"
      ]
     },
     "metadata": {
      "needs_background": "light"
     },
     "output_type": "display_data"
    }
   ],
   "source": [
    "\n",
    "\n",
    "# Proportions for general data\n",
    "general_prop = []\n",
    "customers_prop = []\n",
    "x = [i+1 for i in range(25)]\n",
    "for i in range(25):\n",
    "    general_prop.append((kmeans_labels4general == i).sum()/len(kmeans_labels4general))\n",
    "    customers_prop.append((kmeans_labels4customers == i).sum()/len(kmeans_labels4customers))\n",
    "\n",
    "plt.fig()\n",
    "df_ = pd.DataFrame({'cluster' : x, 'prop_general' : general_prop, 'prop_customers':customers_prop})\n",
    "\n",
    "#ax = sns.countplot(x='index', y = df_general['prop_1', 'prop_2'], data=df_general )\n",
    "df_.plot(x='cluster', y = ['prop_general', 'prop_customers'], kind='bar', figsize=(9,6))\n",
    "plt.ylabel('proportion of persons in each cluster')\n",
    "plt.show()\n"
   ]
  },
  {
   "cell_type": "code",
   "execution_count": 82,
   "metadata": {},
   "outputs": [
    {
     "data": {
      "text/plain": [
       "array([[<matplotlib.axes._subplots.AxesSubplot object at 0x7ff4100f2748>]], dtype=object)"
      ]
     },
     "execution_count": 82,
     "metadata": {},
     "output_type": "execute_result"
    },
    {
     "data": {
      "image/png": "[encoded data removed]",
      "text/plain": [
       "<matplotlib.figure.Figure at 0x7ff41023f550>"
      ]
     },
     "metadata": {
      "needs_background": "light"
     },
     "output_type": "display_data"
    },
    {
     "data": {
      "image/png": "[encoded data removed]",
      "text/plain": [
       "<matplotlib.figure.Figure at 0x7ff410156b38>"
      ]
     },
     "metadata": {
      "needs_background": "light"
     },
     "output_type": "display_data"
    }
   ],
   "source": [
    "# What kinds of people are part of a cluster that is overrepresented in the\n",
    "# customer data compared to the general population?\n",
    "\n",
    "customers_processed['clusternom']=kmeans_labels4customers\n",
    "customers_processed_clusters_15_19=customers_processed[(customers_processed['clusternom']==15) | (customers_processed['clusternom']==19)]\n",
    "\n",
    "customers_processed_clusters_15_19.filter(like='age').hist()\n",
    "customers_processed_clusters_15_19.filter(like='level').hist()\n",
    "#young(1) couples with almost poor (4) level of houshold, litterally :\n",
    "#Less Affluent Households - Pre-Family Couples & Singles"
   ]
  },
  {
   "cell_type": "code",
   "execution_count": 85,
   "metadata": {},
   "outputs": [
    {
     "data": {
      "text/plain": [
       "array([[<matplotlib.axes._subplots.AxesSubplot object at 0x7ff41803deb8>]], dtype=object)"
      ]
     },
     "execution_count": 85,
     "metadata": {},
     "output_type": "execute_result"
    },
    {
     "data": {
      "image/png": "[encoded data removed]",
      "text/plain": [
       "<matplotlib.figure.Figure at 0x7ff4104e4a90>"
      ]
     },
     "metadata": {
      "needs_background": "light"
     },
     "output_type": "display_data"
    },
    {
     "data": {
      "image/png": "[encoded data removed]",
      "text/plain": [
       "<matplotlib.figure.Figure at 0x7ff41e159a90>"
      ]
     },
     "metadata": {
      "needs_background": "light"
     },
     "output_type": "display_data"
    }
   ],
   "source": [
    "# What kinds of people are part of a cluster that is underrepresented in the\n",
    "# customer data compared to the general population?\n",
    "\n",
    "customers_processed['clusternom']=kmeans_labels4customers\n",
    "customers_processed_clusters_1_6_8_14=customers_processed[(customers_processed['clusternom']==1) | (customers_processed['clusternom']==6)|(customers_processed['clusternom']==8) | (customers_processed['clusternom']==14)]\n",
    "\n",
    "customers_processed_clusters_1_6_8_14.filter(like='age').hist()\n",
    "customers_processed_clusters_1_6_8_14.filter(like='level').hist()\n",
    "#family age 4 and houshold level 2"
   ]
  },
  {
   "cell_type": "markdown",
   "metadata": {},
   "source": [
    "### Discussion 3.3: Compare Customer Data to Demographics Data\n",
    "\n",
    "right of the bat by comparing bar plot for customers and general data, we can see clearly a good match between these two. Consider that we removed many columns and mappings without having clear idea about their concept, yet still end up with good results. Considering few over and under presented cases , that could be corrolated to the certain groups, the company should use the model. Having said that there are some overpresented and underpresented groups that we need to be more cautios about them. For example, overrepresented in the over presented customer data compared to the general population looks like are under the lables of young(1) couples with almost poor (4) level of houshold, litterally :\"Less Affluent Households - Pre-Family Couples & Singles\". from the other hand the under presented ones dominantely are belong to family age 4 and houshold level 2. These are based on last for plots."
   ]
  },
  {
   "cell_type": "markdown",
   "metadata": {},
   "source": [
    "> Congratulations on making it this far in the project! Before you finish, make sure to check through the entire notebook from top to bottom to make sure that your analysis follows a logical flow and all of your findings are documented in **Discussion** cells. Once you've checked over all of your work, you should export the notebook as an HTML document to submit for evaluation. You can do this from the menu, navigating to **File -> Download as -> HTML (.html)**. You will submit both that document and this notebook for your project submission."
   ]
  },
  {
   "cell_type": "code",
   "execution_count": null,
   "metadata": {},
   "outputs": [],
   "source": []
  }
 ],
 "metadata": {
  "kernelspec": {
   "display_name": "Python 3",
   "language": "python",
   "name": "python3"
  },
  "language_info": {
   "codemirror_mode": {
    "name": "ipython",
    "version": 3
   },
   "file_extension": ".py",
   "mimetype": "text/x-python",
   "name": "python",
   "nbconvert_exporter": "python",
   "pygments_lexer": "ipython3",
   "version": "3.6.3"
  }
 },
 "nbformat": 4,
 "nbformat_minor": 2
}
